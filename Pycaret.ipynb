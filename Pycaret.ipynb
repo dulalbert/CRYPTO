{
 "cells": [
  {
   "cell_type": "code",
   "execution_count": 130,
   "metadata": {},
   "outputs": [],
   "source": [
    "import pandas as pd\n",
    "import os\n",
    "import time\n",
    "import numpy as np\n",
    "import pandas as pd\n",
    "#from sklearnex import patch_sklearn #use intel patch before importing sklearn\n",
    "#patch_sklearn()\n",
    "from sklearn import preprocessing\n",
    "from sklearn.pipeline import Pipeline\n",
    "from sklearn.model_selection import train_test_split, cross_validate, GridSearchCV\n",
    "from sklearn import linear_model, svm, tree, ensemble, neighbors\n",
    "from sklearn.metrics import r2_score, mean_absolute_error, mean_squared_error, ConfusionMatrixDisplay\n",
    "import matplotlib.pyplot as plt\n",
    "\n",
    "#from xgboost import XGBRegressor\n",
    "import lightgbm as lgbm\n",
    "\n",
    "from sklearn.neural_network import MLPClassifier\n",
    "from sklearn.linear_model import SGDClassifier\n",
    "from sklearn import  ensemble"
   ]
  },
  {
   "cell_type": "markdown",
   "metadata": {},
   "source": [
    "# 1) Import the dataset"
   ]
  },
  {
   "cell_type": "markdown",
   "metadata": {},
   "source": [
    "As https://doi.org/10.1016/j.comcom.2021.02.016 and promizing : http://doi.acm.org/10.1145/3243734.3243858\n"
   ]
  },
  {
   "cell_type": "code",
   "execution_count": 131,
   "metadata": {},
   "outputs": [],
   "source": [
    "df_mining = pd.read_csv(os.getcwd()+'/network_sniff/traffic_minage_1811_15.csv', index_col= 0)\n",
    "df_not_mining = pd.read_csv(os.getcwd()+'/network_sniff/2911_traffic_calme.csv', index_col= 0)"
   ]
  },
  {
   "cell_type": "code",
   "execution_count": 132,
   "metadata": {},
   "outputs": [
    {
     "data": {
      "text/html": [
       "<div>\n",
       "<style scoped>\n",
       "    .dataframe tbody tr th:only-of-type {\n",
       "        vertical-align: middle;\n",
       "    }\n",
       "\n",
       "    .dataframe tbody tr th {\n",
       "        vertical-align: top;\n",
       "    }\n",
       "\n",
       "    .dataframe thead th {\n",
       "        text-align: right;\n",
       "    }\n",
       "</style>\n",
       "<table border=\"1\" class=\"dataframe\">\n",
       "  <thead>\n",
       "    <tr style=\"text-align: right;\">\n",
       "      <th></th>\n",
       "      <th>Time</th>\n",
       "      <th>Source</th>\n",
       "      <th>Protocol</th>\n",
       "      <th>Length</th>\n",
       "      <th>Info</th>\n",
       "    </tr>\n",
       "    <tr>\n",
       "      <th>Destination</th>\n",
       "      <th></th>\n",
       "      <th></th>\n",
       "      <th></th>\n",
       "      <th></th>\n",
       "      <th></th>\n",
       "    </tr>\n",
       "  </thead>\n",
       "  <tbody>\n",
       "    <tr>\n",
       "      <th>10.29.231.206</th>\n",
       "      <td>37</td>\n",
       "      <td>37</td>\n",
       "      <td>37</td>\n",
       "      <td>37</td>\n",
       "      <td>37</td>\n",
       "    </tr>\n",
       "    <tr>\n",
       "      <th>178.128.242.134</th>\n",
       "      <td>6</td>\n",
       "      <td>6</td>\n",
       "      <td>6</td>\n",
       "      <td>6</td>\n",
       "      <td>6</td>\n",
       "    </tr>\n",
       "    <tr>\n",
       "      <th>192.44.75.10</th>\n",
       "      <td>2</td>\n",
       "      <td>2</td>\n",
       "      <td>2</td>\n",
       "      <td>2</td>\n",
       "      <td>2</td>\n",
       "    </tr>\n",
       "    <tr>\n",
       "      <th>199.247.27.41</th>\n",
       "      <td>1</td>\n",
       "      <td>1</td>\n",
       "      <td>1</td>\n",
       "      <td>1</td>\n",
       "      <td>1</td>\n",
       "    </tr>\n",
       "    <tr>\n",
       "      <th>23.200.86.233</th>\n",
       "      <td>8</td>\n",
       "      <td>8</td>\n",
       "      <td>8</td>\n",
       "      <td>8</td>\n",
       "      <td>8</td>\n",
       "    </tr>\n",
       "    <tr>\n",
       "      <th>23.200.87.12</th>\n",
       "      <td>6</td>\n",
       "      <td>6</td>\n",
       "      <td>6</td>\n",
       "      <td>6</td>\n",
       "      <td>6</td>\n",
       "    </tr>\n",
       "    <tr>\n",
       "      <th>34.120.208.123</th>\n",
       "      <td>2</td>\n",
       "      <td>2</td>\n",
       "      <td>2</td>\n",
       "      <td>2</td>\n",
       "      <td>2</td>\n",
       "    </tr>\n",
       "    <tr>\n",
       "      <th>34.160.144.191</th>\n",
       "      <td>2</td>\n",
       "      <td>2</td>\n",
       "      <td>2</td>\n",
       "      <td>2</td>\n",
       "      <td>2</td>\n",
       "    </tr>\n",
       "    <tr>\n",
       "      <th>34.98.75.36</th>\n",
       "      <td>2</td>\n",
       "      <td>2</td>\n",
       "      <td>2</td>\n",
       "      <td>2</td>\n",
       "      <td>2</td>\n",
       "    </tr>\n",
       "    <tr>\n",
       "      <th>35.244.181.201</th>\n",
       "      <td>2</td>\n",
       "      <td>2</td>\n",
       "      <td>2</td>\n",
       "      <td>2</td>\n",
       "      <td>2</td>\n",
       "    </tr>\n",
       "    <tr>\n",
       "      <th>52.84.174.83</th>\n",
       "      <td>9</td>\n",
       "      <td>9</td>\n",
       "      <td>9</td>\n",
       "      <td>9</td>\n",
       "      <td>9</td>\n",
       "    </tr>\n",
       "    <tr>\n",
       "      <th>93.184.220.29</th>\n",
       "      <td>6</td>\n",
       "      <td>6</td>\n",
       "      <td>6</td>\n",
       "      <td>6</td>\n",
       "      <td>6</td>\n",
       "    </tr>\n",
       "    <tr>\n",
       "      <th>All-HSRP-routers_ea</th>\n",
       "      <td>1</td>\n",
       "      <td>1</td>\n",
       "      <td>1</td>\n",
       "      <td>1</td>\n",
       "      <td>1</td>\n",
       "    </tr>\n",
       "    <tr>\n",
       "      <th>RealtekU_4c:cc:50</th>\n",
       "      <td>1</td>\n",
       "      <td>1</td>\n",
       "      <td>1</td>\n",
       "      <td>1</td>\n",
       "      <td>1</td>\n",
       "    </tr>\n",
       "  </tbody>\n",
       "</table>\n",
       "</div>"
      ],
      "text/plain": [
       "                     Time  Source  Protocol  Length  Info\n",
       "Destination                                              \n",
       "10.29.231.206          37      37        37      37    37\n",
       "178.128.242.134         6       6         6       6     6\n",
       "192.44.75.10            2       2         2       2     2\n",
       "199.247.27.41           1       1         1       1     1\n",
       "23.200.86.233           8       8         8       8     8\n",
       "23.200.87.12            6       6         6       6     6\n",
       "34.120.208.123          2       2         2       2     2\n",
       "34.160.144.191          2       2         2       2     2\n",
       "34.98.75.36             2       2         2       2     2\n",
       "35.244.181.201          2       2         2       2     2\n",
       "52.84.174.83            9       9         9       9     9\n",
       "93.184.220.29           6       6         6       6     6\n",
       "All-HSRP-routers_ea     1       1         1       1     1\n",
       "RealtekU_4c:cc:50       1       1         1       1     1"
      ]
     },
     "execution_count": 132,
     "metadata": {},
     "output_type": "execute_result"
    }
   ],
   "source": [
    "df_mining.groupby('Destination').count()\n"
   ]
  },
  {
   "cell_type": "markdown",
   "metadata": {},
   "source": [
    "We define all traffic trom the mining dataset as comming from the miner and all the one from the other dataset as not mining\n",
    "Moreover we add the direction of the package"
   ]
  },
  {
   "cell_type": "code",
   "execution_count": 133,
   "metadata": {},
   "outputs": [],
   "source": [
    "df_mining['miner'] = True\n",
    "df_mining['outbound'] = df_mining['Source'].apply(lambda x : x == '10.29.231.206') #change ip of miner\n",
    "df_not_mining['miner'] = False\n",
    "df_not_mining['outbound'] = df_not_mining['Source'].apply(lambda x : x == '10.29.229.98')"
   ]
  },
  {
   "cell_type": "markdown",
   "metadata": {},
   "source": [
    "Compute time difference between two packages"
   ]
  },
  {
   "cell_type": "code",
   "execution_count": 134,
   "metadata": {},
   "outputs": [],
   "source": [
    "df_mining['delta'] = df_mining.Time.diff()\n",
    "df_not_mining['delta'] = df_not_mining.Time.diff()"
   ]
  },
  {
   "cell_type": "markdown",
   "metadata": {},
   "source": [
    "Compute time and packet size rolling average and std"
   ]
  },
  {
   "cell_type": "code",
   "execution_count": 135,
   "metadata": {},
   "outputs": [],
   "source": [
    "window = 4"
   ]
  },
  {
   "cell_type": "code",
   "execution_count": 136,
   "metadata": {},
   "outputs": [],
   "source": [
    "# delta\n",
    "# Rolling average\n",
    "df_mining['ra_delta'] = df_mining.delta.rolling(window=window).mean()\n",
    "df_not_mining['ra_delta'] = df_not_mining.delta.diff().rolling(window=window).mean()\n",
    "# Standard Deviation\n",
    "df_mining['rstd_delta'] = df_mining.delta.rolling(window=window).std()\n",
    "df_not_mining['rstd_delta'] = df_not_mining.delta.diff().rolling(window=window).std()\n",
    "\n",
    "# Lenght\n",
    "# Rolling average\n",
    "df_mining['ra_lenght'] = df_mining.Length.rolling(window=window).mean()\n",
    "df_not_mining['ra_lenght'] = df_not_mining.Length.diff().rolling(window=window).mean()\n",
    "# Standard Deviation\n",
    "df_mining['rstd_lenght'] = df_mining.Length.rolling(window=window).std()\n",
    "df_not_mining['rstd_lenght'] = df_not_mining.Length.diff().rolling(window=window).std()\n"
   ]
  },
  {
   "cell_type": "code",
   "execution_count": 137,
   "metadata": {},
   "outputs": [],
   "source": [
    "df_ML = pd.concat([df_mining, df_not_mining], ignore_index=True)\n",
    "df_ML.reset_index(inplace = True, drop = True)\n",
    "df_ML.drop(['Time', 'Source', 'Destination', 'Protocol', 'Info'], axis = 1, inplace = True)"
   ]
  },
  {
   "cell_type": "code",
   "execution_count": 138,
   "metadata": {},
   "outputs": [
    {
     "data": {
      "text/html": [
       "<div>\n",
       "<style scoped>\n",
       "    .dataframe tbody tr th:only-of-type {\n",
       "        vertical-align: middle;\n",
       "    }\n",
       "\n",
       "    .dataframe tbody tr th {\n",
       "        vertical-align: top;\n",
       "    }\n",
       "\n",
       "    .dataframe thead th {\n",
       "        text-align: right;\n",
       "    }\n",
       "</style>\n",
       "<table border=\"1\" class=\"dataframe\">\n",
       "  <thead>\n",
       "    <tr style=\"text-align: right;\">\n",
       "      <th></th>\n",
       "      <th>Length</th>\n",
       "      <th>delta</th>\n",
       "      <th>ra_delta</th>\n",
       "      <th>rstd_delta</th>\n",
       "      <th>ra_lenght</th>\n",
       "      <th>rstd_lenght</th>\n",
       "    </tr>\n",
       "  </thead>\n",
       "  <tbody>\n",
       "    <tr>\n",
       "      <th>count</th>\n",
       "      <td>41272.000000</td>\n",
       "      <td>4.127000e+04</td>\n",
       "      <td>4.126300e+04</td>\n",
       "      <td>4.126300e+04</td>\n",
       "      <td>41265.000000</td>\n",
       "      <td>41265.000000</td>\n",
       "    </tr>\n",
       "    <tr>\n",
       "      <th>mean</th>\n",
       "      <td>753.771613</td>\n",
       "      <td>3.151798e-02</td>\n",
       "      <td>1.453039e-03</td>\n",
       "      <td>1.453039e-03</td>\n",
       "      <td>0.168939</td>\n",
       "      <td>1332.260382</td>\n",
       "    </tr>\n",
       "    <tr>\n",
       "      <th>std</th>\n",
       "      <td>1059.517408</td>\n",
       "      <td>6.948798e-01</td>\n",
       "      <td>2.461157e-01</td>\n",
       "      <td>2.461157e-01</td>\n",
       "      <td>282.003832</td>\n",
       "      <td>1201.291351</td>\n",
       "    </tr>\n",
       "    <tr>\n",
       "      <th>min</th>\n",
       "      <td>42.000000</td>\n",
       "      <td>-6.600010e-08</td>\n",
       "      <td>-2.729894e+01</td>\n",
       "      <td>-2.729894e+01</td>\n",
       "      <td>-1134.000000</td>\n",
       "      <td>0.000000</td>\n",
       "    </tr>\n",
       "    <tr>\n",
       "      <th>25%</th>\n",
       "      <td>66.000000</td>\n",
       "      <td>1.103925e-05</td>\n",
       "      <td>-5.942175e-05</td>\n",
       "      <td>-5.942175e-05</td>\n",
       "      <td>-20.250000</td>\n",
       "      <td>175.200837</td>\n",
       "    </tr>\n",
       "    <tr>\n",
       "      <th>50%</th>\n",
       "      <td>105.000000</td>\n",
       "      <td>1.887860e-04</td>\n",
       "      <td>-4.725001e-08</td>\n",
       "      <td>-4.725001e-08</td>\n",
       "      <td>0.000000</td>\n",
       "      <td>1143.095213</td>\n",
       "    </tr>\n",
       "    <tr>\n",
       "      <th>75%</th>\n",
       "      <td>1466.000000</td>\n",
       "      <td>4.567025e-04</td>\n",
       "      <td>5.934062e-05</td>\n",
       "      <td>5.934062e-05</td>\n",
       "      <td>21.750000</td>\n",
       "      <td>2364.574098</td>\n",
       "    </tr>\n",
       "    <tr>\n",
       "      <th>max</th>\n",
       "      <td>6806.000000</td>\n",
       "      <td>1.092041e+02</td>\n",
       "      <td>2.730102e+01</td>\n",
       "      <td>2.730102e+01</td>\n",
       "      <td>1637.750000</td>\n",
       "      <td>5287.348422</td>\n",
       "    </tr>\n",
       "  </tbody>\n",
       "</table>\n",
       "</div>"
      ],
      "text/plain": [
       "             Length         delta      ra_delta    rstd_delta     ra_lenght  \\\n",
       "count  41272.000000  4.127000e+04  4.126300e+04  4.126300e+04  41265.000000   \n",
       "mean     753.771613  3.151798e-02  1.453039e-03  1.453039e-03      0.168939   \n",
       "std     1059.517408  6.948798e-01  2.461157e-01  2.461157e-01    282.003832   \n",
       "min       42.000000 -6.600010e-08 -2.729894e+01 -2.729894e+01  -1134.000000   \n",
       "25%       66.000000  1.103925e-05 -5.942175e-05 -5.942175e-05    -20.250000   \n",
       "50%      105.000000  1.887860e-04 -4.725001e-08 -4.725001e-08      0.000000   \n",
       "75%     1466.000000  4.567025e-04  5.934062e-05  5.934062e-05     21.750000   \n",
       "max     6806.000000  1.092041e+02  2.730102e+01  2.730102e+01   1637.750000   \n",
       "\n",
       "        rstd_lenght  \n",
       "count  41265.000000  \n",
       "mean    1332.260382  \n",
       "std     1201.291351  \n",
       "min        0.000000  \n",
       "25%      175.200837  \n",
       "50%     1143.095213  \n",
       "75%     2364.574098  \n",
       "max     5287.348422  "
      ]
     },
     "execution_count": 138,
     "metadata": {},
     "output_type": "execute_result"
    }
   ],
   "source": [
    "df_ML.describe()"
   ]
  },
  {
   "cell_type": "code",
   "execution_count": 139,
   "metadata": {},
   "outputs": [
    {
     "data": {
      "text/plain": [
       "Index(['Length', 'miner', 'outbound', 'delta', 'ra_delta', 'rstd_delta',\n",
       "       'ra_lenght', 'rstd_lenght'],\n",
       "      dtype='object')"
      ]
     },
     "execution_count": 139,
     "metadata": {},
     "output_type": "execute_result"
    }
   ],
   "source": [
    "df_ML.describe()\n",
    "df_ML.dropna(inplace = True)\n",
    "df_ML.columns"
   ]
  },
  {
   "cell_type": "code",
   "execution_count": 140,
   "metadata": {},
   "outputs": [
    {
     "data": {
      "text/html": [
       "<div>\n",
       "<style scoped>\n",
       "    .dataframe tbody tr th:only-of-type {\n",
       "        vertical-align: middle;\n",
       "    }\n",
       "\n",
       "    .dataframe tbody tr th {\n",
       "        vertical-align: top;\n",
       "    }\n",
       "\n",
       "    .dataframe thead th {\n",
       "        text-align: right;\n",
       "    }\n",
       "</style>\n",
       "<table border=\"1\" class=\"dataframe\">\n",
       "  <thead>\n",
       "    <tr style=\"text-align: right;\">\n",
       "      <th></th>\n",
       "      <th>Length</th>\n",
       "      <th>outbound</th>\n",
       "      <th>delta</th>\n",
       "      <th>ra_delta</th>\n",
       "      <th>rstd_delta</th>\n",
       "      <th>ra_lenght</th>\n",
       "      <th>rstd_lenght</th>\n",
       "    </tr>\n",
       "    <tr>\n",
       "      <th>miner</th>\n",
       "      <th></th>\n",
       "      <th></th>\n",
       "      <th></th>\n",
       "      <th></th>\n",
       "      <th></th>\n",
       "      <th></th>\n",
       "      <th></th>\n",
       "    </tr>\n",
       "  </thead>\n",
       "  <tbody>\n",
       "    <tr>\n",
       "      <th>False</th>\n",
       "      <td>755.204045</td>\n",
       "      <td>0.468117</td>\n",
       "      <td>0.030102</td>\n",
       "      <td>-4.894163e-08</td>\n",
       "      <td>-4.894163e-08</td>\n",
       "      <td>-0.005330</td>\n",
       "      <td>1334.872386</td>\n",
       "    </tr>\n",
       "    <tr>\n",
       "      <th>True</th>\n",
       "      <td>84.024691</td>\n",
       "      <td>0.543210</td>\n",
       "      <td>0.753654</td>\n",
       "      <td>7.402318e-01</td>\n",
       "      <td>7.402318e-01</td>\n",
       "      <td>86.472222</td>\n",
       "      <td>30.853182</td>\n",
       "    </tr>\n",
       "  </tbody>\n",
       "</table>\n",
       "</div>"
      ],
      "text/plain": [
       "           Length  outbound     delta      ra_delta    rstd_delta  ra_lenght  \\\n",
       "miner                                                                          \n",
       "False  755.204045  0.468117  0.030102 -4.894163e-08 -4.894163e-08  -0.005330   \n",
       "True    84.024691  0.543210  0.753654  7.402318e-01  7.402318e-01  86.472222   \n",
       "\n",
       "       rstd_lenght  \n",
       "miner               \n",
       "False  1334.872386  \n",
       "True     30.853182  "
      ]
     },
     "execution_count": 140,
     "metadata": {},
     "output_type": "execute_result"
    }
   ],
   "source": [
    "df_ML.groupby('miner').mean()"
   ]
  },
  {
   "cell_type": "code",
   "execution_count": 141,
   "metadata": {},
   "outputs": [],
   "source": [
    "y = df_ML['miner']\n",
    "X = df_ML.drop('miner', axis = 1)"
   ]
  },
  {
   "cell_type": "code",
   "execution_count": 142,
   "metadata": {},
   "outputs": [
    {
     "data": {
      "text/plain": [
       "<bound method NDFrame.describe of 4         True\n",
       "5         True\n",
       "6         True\n",
       "7         True\n",
       "8         True\n",
       "         ...  \n",
       "41267    False\n",
       "41268    False\n",
       "41269    False\n",
       "41270    False\n",
       "41271    False\n",
       "Name: miner, Length: 41263, dtype: bool>"
      ]
     },
     "execution_count": 142,
     "metadata": {},
     "output_type": "execute_result"
    }
   ],
   "source": [
    "y.describe"
   ]
  },
  {
   "cell_type": "code",
   "execution_count": 143,
   "metadata": {},
   "outputs": [
    {
     "data": {
      "text/plain": [
       "False    41182\n",
       "True        81\n",
       "Name: miner, dtype: int64"
      ]
     },
     "execution_count": 143,
     "metadata": {},
     "output_type": "execute_result"
    }
   ],
   "source": [
    "y.value_counts()"
   ]
  },
  {
   "attachments": {},
   "cell_type": "markdown",
   "metadata": {},
   "source": [
    "# ML Algorithm\n",
    "## Pycaret"
   ]
  },
  {
   "cell_type": "code",
   "execution_count": 144,
   "metadata": {},
   "outputs": [],
   "source": [
    "from pycaret.classification import *\n",
    "import joblib"
   ]
  },
  {
   "cell_type": "code",
   "execution_count": 145,
   "metadata": {},
   "outputs": [],
   "source": [
    "# Prediction with Data\n",
    "def predire(loadmodel,datapredit) :\n",
    "    best = joblib.load(loadmodel)\n",
    "    predictions = predict_model(best, data=datapredit)\n",
    "    print(predictions.head())"
   ]
  },
  {
   "cell_type": "code",
   "execution_count": 146,
   "metadata": {},
   "outputs": [
    {
     "name": "stdout",
     "output_type": "stream",
     "text": [
      "<class 'pandas.core.frame.DataFrame'>\n",
      "Int64Index: 41263 entries, 4 to 41271\n",
      "Data columns (total 8 columns):\n",
      " #   Column       Non-Null Count  Dtype  \n",
      "---  ------       --------------  -----  \n",
      " 0   Length       41263 non-null  int64  \n",
      " 1   outbound     41263 non-null  bool   \n",
      " 2   delta        41263 non-null  float64\n",
      " 3   ra_delta     41263 non-null  float64\n",
      " 4   rstd_delta   41263 non-null  float64\n",
      " 5   ra_lenght    41263 non-null  float64\n",
      " 6   rstd_lenght  41263 non-null  float64\n",
      " 7   miner        41263 non-null  bool   \n",
      "dtypes: bool(2), float64(5), int64(1)\n",
      "memory usage: 2.3 MB\n"
     ]
    }
   ],
   "source": [
    "# Data\n",
    "df_Auto= pd.concat([X,y],axis=1)\n",
    "df_Auto.info()"
   ]
  },
  {
   "cell_type": "code",
   "execution_count": 147,
   "metadata": {},
   "outputs": [
    {
     "data": {
      "text/html": [
       "<style type=\"text/css\">\n",
       "</style>\n",
       "<table id=\"T_d9a22_\">\n",
       "  <thead>\n",
       "    <tr>\n",
       "      <th class=\"blank level0\" >&nbsp;</th>\n",
       "      <th class=\"col_heading level0 col0\" >Model</th>\n",
       "      <th class=\"col_heading level0 col1\" >Accuracy</th>\n",
       "      <th class=\"col_heading level0 col2\" >AUC</th>\n",
       "      <th class=\"col_heading level0 col3\" >Recall</th>\n",
       "      <th class=\"col_heading level0 col4\" >Prec.</th>\n",
       "      <th class=\"col_heading level0 col5\" >F1</th>\n",
       "      <th class=\"col_heading level0 col6\" >Kappa</th>\n",
       "      <th class=\"col_heading level0 col7\" >MCC</th>\n",
       "    </tr>\n",
       "  </thead>\n",
       "  <tbody>\n",
       "    <tr>\n",
       "      <th id=\"T_d9a22_level0_row0\" class=\"row_heading level0 row0\" >0</th>\n",
       "      <td id=\"T_d9a22_row0_col0\" class=\"data row0 col0\" >Logistic Regression</td>\n",
       "      <td id=\"T_d9a22_row0_col1\" class=\"data row0 col1\" >1.0000</td>\n",
       "      <td id=\"T_d9a22_row0_col2\" class=\"data row0 col2\" >1.0000</td>\n",
       "      <td id=\"T_d9a22_row0_col3\" class=\"data row0 col3\" >1.0000</td>\n",
       "      <td id=\"T_d9a22_row0_col4\" class=\"data row0 col4\" >1.0000</td>\n",
       "      <td id=\"T_d9a22_row0_col5\" class=\"data row0 col5\" >1.0000</td>\n",
       "      <td id=\"T_d9a22_row0_col6\" class=\"data row0 col6\" >1.0000</td>\n",
       "      <td id=\"T_d9a22_row0_col7\" class=\"data row0 col7\" >1.0000</td>\n",
       "    </tr>\n",
       "  </tbody>\n",
       "</table>\n"
      ],
      "text/plain": [
       "<pandas.io.formats.style.Styler at 0x7f8d9cbc7f90>"
      ]
     },
     "metadata": {},
     "output_type": "display_data"
    },
    {
     "name": "stdout",
     "output_type": "stream",
     "text": [
      "   Length  outbound     delta  ra_delta  rstd_delta  ra_lenght  rstd_lenght  \\\n",
      "4      74      True  0.000650  0.000431    0.000431     187.75   169.922286   \n",
      "5      74     False  0.027318  0.007251    0.007251     183.75   173.148058   \n",
      "6      66      True  0.000103  0.007018    0.007018      90.75    39.016022   \n",
      "7     535      True  0.000200  0.007068    0.007068     187.25   231.864005   \n",
      "8      66     False  0.027170  0.013698    0.013698     185.25   233.197163   \n",
      "\n",
      "   miner Label   Score  \n",
      "4   True  True  1.0000  \n",
      "5   True  True  1.0000  \n",
      "6   True  True  1.0000  \n",
      "7   True  True  0.9996  \n",
      "8   True  True  1.0000  \n"
     ]
    }
   ],
   "source": [
    "predire('Pycaret Module',df_Auto)"
   ]
  },
  {
   "attachments": {},
   "cell_type": "markdown",
   "metadata": {},
   "source": [
    "## build the model"
   ]
  },
  {
   "cell_type": "code",
   "execution_count": 148,
   "metadata": {},
   "outputs": [
    {
     "data": {
      "text/plain": [
       "\"\\nfrom pycaret.classification import *\\nclf1 = setup(data = df_Auto, target = 'miner',fold_strategy='kfold',fold=5,use_gpu=True)\\n\""
      ]
     },
     "execution_count": 148,
     "metadata": {},
     "output_type": "execute_result"
    }
   ],
   "source": [
    "'''\n",
    "from pycaret.classification import *\n",
    "clf1 = setup(data = df_Auto, target = 'miner',fold_strategy='kfold',fold=5,use_gpu=True)\n",
    "'''"
   ]
  },
  {
   "cell_type": "code",
   "execution_count": 149,
   "metadata": {},
   "outputs": [],
   "source": [
    "# best = compare_models()"
   ]
  },
  {
   "cell_type": "code",
   "execution_count": 150,
   "metadata": {},
   "outputs": [
    {
     "data": {
      "text/plain": [
       "'\\npredictions = predict_model(best, data=df_Auto)\\npredictions.head()\\n'"
      ]
     },
     "execution_count": 150,
     "metadata": {},
     "output_type": "execute_result"
    }
   ],
   "source": [
    "'''\n",
    "predictions = predict_model(best, data=df_Auto)\n",
    "predictions.head()\n",
    "'''"
   ]
  },
  {
   "cell_type": "code",
   "execution_count": 151,
   "metadata": {},
   "outputs": [
    {
     "data": {
      "text/plain": [
       "\"\\n# Save trained model\\nimport joblib\\njoblib.dump(best, 'Pycaret Module')\\n\""
      ]
     },
     "execution_count": 151,
     "metadata": {},
     "output_type": "execute_result"
    }
   ],
   "source": [
    "'''\n",
    "# Save trained model\n",
    "import joblib\n",
    "joblib.dump(best, 'Pycaret Module')\n",
    "'''"
   ]
  }
 ],
 "metadata": {
  "kernelspec": {
   "display_name": "Python 3",
   "language": "python",
   "name": "python3"
  },
  "language_info": {
   "codemirror_mode": {
    "name": "ipython",
    "version": 3
   },
   "file_extension": ".py",
   "mimetype": "text/x-python",
   "name": "python",
   "nbconvert_exporter": "python",
   "pygments_lexer": "ipython3",
   "version": "3.9.15"
  },
  "orig_nbformat": 4,
  "vscode": {
   "interpreter": {
    "hash": "63ec137b236f4571ddf6057b0ef98c638499ee8b49585d9f37af80a425d01971"
   }
  }
 },
 "nbformat": 4,
 "nbformat_minor": 2
}
