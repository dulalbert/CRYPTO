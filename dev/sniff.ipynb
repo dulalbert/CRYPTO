{
 "cells": [
  {
   "cell_type": "code",
   "execution_count": 6,
   "metadata": {},
   "outputs": [],
   "source": [
    "import pandas as pd"
   ]
  },
  {
   "cell_type": "code",
   "execution_count": 2,
   "metadata": {},
   "outputs": [
    {
     "data": {
      "text/html": [
       "<div>\n",
       "<style scoped>\n",
       "    .dataframe tbody tr th:only-of-type {\n",
       "        vertical-align: middle;\n",
       "    }\n",
       "\n",
       "    .dataframe tbody tr th {\n",
       "        vertical-align: top;\n",
       "    }\n",
       "\n",
       "    .dataframe thead th {\n",
       "        text-align: right;\n",
       "    }\n",
       "</style>\n",
       "<table border=\"1\" class=\"dataframe\">\n",
       "  <thead>\n",
       "    <tr style=\"text-align: right;\">\n",
       "      <th></th>\n",
       "      <th>Unnamed: 0</th>\n",
       "      <th>interface</th>\n",
       "      <th>Time</th>\n",
       "      <th>Source</th>\n",
       "      <th>Destination</th>\n",
       "      <th>Length</th>\n",
       "    </tr>\n",
       "  </thead>\n",
       "  <tbody>\n",
       "    <tr>\n",
       "      <th>0</th>\n",
       "      <td>0</td>\n",
       "      <td>en0</td>\n",
       "      <td>1.677752e+09</td>\n",
       "      <td>00:23:eb:f9:60:c0</td>\n",
       "      <td>78:31:c1:bf:c0:76</td>\n",
       "      <td>118</td>\n",
       "    </tr>\n",
       "    <tr>\n",
       "      <th>1</th>\n",
       "      <td>1</td>\n",
       "      <td>en0</td>\n",
       "      <td>1.677752e+09</td>\n",
       "      <td>78:31:c1:bf:c0:76</td>\n",
       "      <td>00:00:0c:07:ac:4c</td>\n",
       "      <td>235</td>\n",
       "    </tr>\n",
       "    <tr>\n",
       "      <th>2</th>\n",
       "      <td>2</td>\n",
       "      <td>en0</td>\n",
       "      <td>1.677752e+09</td>\n",
       "      <td>78:31:c1:bf:c0:76</td>\n",
       "      <td>00:00:0c:07:ac:4c</td>\n",
       "      <td>1304</td>\n",
       "    </tr>\n",
       "    <tr>\n",
       "      <th>3</th>\n",
       "      <td>3</td>\n",
       "      <td>en0</td>\n",
       "      <td>1.677752e+09</td>\n",
       "      <td>78:31:c1:bf:c0:76</td>\n",
       "      <td>00:00:0c:07:ac:4c</td>\n",
       "      <td>1137</td>\n",
       "    </tr>\n",
       "  </tbody>\n",
       "</table>\n",
       "</div>"
      ],
      "text/plain": [
       "   Unnamed: 0 interface          Time             Source        Destination  \\\n",
       "0           0       en0  1.677752e+09  00:23:eb:f9:60:c0  78:31:c1:bf:c0:76   \n",
       "1           1       en0  1.677752e+09  78:31:c1:bf:c0:76  00:00:0c:07:ac:4c   \n",
       "2           2       en0  1.677752e+09  78:31:c1:bf:c0:76  00:00:0c:07:ac:4c   \n",
       "3           3       en0  1.677752e+09  78:31:c1:bf:c0:76  00:00:0c:07:ac:4c   \n",
       "\n",
       "   Length  \n",
       "0     118  \n",
       "1     235  \n",
       "2    1304  \n",
       "3    1137  "
      ]
     },
     "execution_count": 2,
     "metadata": {},
     "output_type": "execute_result"
    }
   ],
   "source": [
    "pd.read_csv('sniffed_df.csv')"
   ]
  },
  {
   "cell_type": "code",
   "execution_count": 12,
   "metadata": {},
   "outputs": [],
   "source": [
    "import netifaces\n",
    "from scapy.all import *\n",
    "import pandas as pd\n",
    "import time"
   ]
  },
  {
   "cell_type": "code",
   "execution_count": 1,
   "metadata": {},
   "outputs": [
    {
     "name": "stderr",
     "output_type": "stream",
     "text": [
      "WARNING: No IPv4 address found on en1 !\n",
      "WARNING: No IPv4 address found on en2 !\n",
      "WARNING: more No IPv4 address found on bridge0 !\n"
     ]
    },
    {
     "ename": "ImportError",
     "evalue": "cannot import name 'haslayer' from 'scapy.all' (/Users/albertdulout/opt/anaconda3/lib/python3.9/site-packages/scapy/all.py)",
     "output_type": "error",
     "traceback": [
      "\u001b[0;31m---------------------------------------------------------------------------\u001b[0m",
      "\u001b[0;31mImportError\u001b[0m                               Traceback (most recent call last)",
      "\u001b[0;32m/var/folders/g8/rlz57xbs0633vcsnb4yyvr8c0000gn/T/ipykernel_27618/290412095.py\u001b[0m in \u001b[0;36m<module>\u001b[0;34m\u001b[0m\n\u001b[0;32m----> 1\u001b[0;31m \u001b[0;32mfrom\u001b[0m \u001b[0mscapy\u001b[0m\u001b[0;34m.\u001b[0m\u001b[0mall\u001b[0m \u001b[0;32mimport\u001b[0m \u001b[0msniff\u001b[0m\u001b[0;34m,\u001b[0m \u001b[0mget_if_addr\u001b[0m\u001b[0;34m,\u001b[0m \u001b[0mhaslayer\u001b[0m\u001b[0;34m\u001b[0m\u001b[0;34m\u001b[0m\u001b[0m\n\u001b[0m\u001b[1;32m      2\u001b[0m \u001b[0;32mfrom\u001b[0m \u001b[0mnetifaces\u001b[0m \u001b[0;32mimport\u001b[0m \u001b[0minterfaces\u001b[0m\u001b[0;34m\u001b[0m\u001b[0;34m\u001b[0m\u001b[0m\n",
      "\u001b[0;31mImportError\u001b[0m: cannot import name 'haslayer' from 'scapy.all' (/Users/albertdulout/opt/anaconda3/lib/python3.9/site-packages/scapy/all.py)"
     ]
    }
   ],
   "source": [
    "from scapy.all import sniff, get_if_addr,\n",
    "from netifaces import interfaces"
   ]
  },
  {
   "cell_type": "code",
   "execution_count": 5,
   "metadata": {},
   "outputs": [],
   "source": [
    "from platform import platform"
   ]
  },
  {
   "cell_type": "code",
   "execution_count": 6,
   "metadata": {},
   "outputs": [
    {
     "data": {
      "text/plain": [
       "('64bit', '')"
      ]
     },
     "execution_count": 6,
     "metadata": {},
     "output_type": "execute_result"
    }
   ],
   "source": [
    "platform()"
   ]
  },
  {
   "cell_type": "code",
   "execution_count": 8,
   "metadata": {},
   "outputs": [],
   "source": [
    "interfaces = list(filter(lambda s: ('en' or 'eth') in s, interfaces()))"
   ]
  },
  {
   "cell_type": "code",
   "execution_count": 13,
   "metadata": {},
   "outputs": [],
   "source": [
    "data = []\n",
    "for packet in pkt:\n",
    "    if IP in packet : # garder seulement packet IP\n",
    "        data.append([packet.sniffed_on ,packet.time, packet[IP].src, packet[IP].dst, len(packet)])"
   ]
  },
  {
   "cell_type": "code",
   "execution_count": 2,
   "metadata": {},
   "outputs": [],
   "source": [
    "# On garde que les ports wifi et ethernet\n",
    "interfaces = list(filter(lambda s: ('en' or 'eth') in s, netifaces.interfaces()))\n",
    "\n",
    "# Capturer les packets pendant 20 secondes\n",
    "pkt = sniff(iface=interfaces, count=100)\n",
    "\n",
    "data = []\n",
    "for packet in pkt:\n",
    "    if IP in packet : # garder seulement packet IP\n",
    "        data.append([packet.sniffed_on ,packet.time, packet[IP].src, packet[IP].dst, len(packet)])\n",
    "\n",
    "sniffed_df = pd.DataFrame(data, columns=['interface','Time', 'Source', 'Destination', 'Length'])\n",
    "\n",
    "#Filtrer sur l'interface la plus utilisée\n",
    "most_used_interface = sniffed_df.groupby(by = 'interface').sum().nlargest(1, 'Length').iloc[0].name\n",
    "sniffed_df = sniffed_df.where(sniffed_df[\"interface\"] == most_used_interface).drop(\"interface\")\n",
    "\n",
    "\n"
   ]
  },
  {
   "cell_type": "code",
   "execution_count": 108,
   "metadata": {},
   "outputs": [],
   "source": [
    "data = []\n",
    "cpt = 0\n",
    "for packet in pkt:\n",
    "    if IP in packet : # garder seulement packet IP\n",
    "        data.append([packet.sniffed_on ,packet.time, packet[IP].src, packet[IP].dst, len(packet)])\n",
    "\n",
    "sniffed_df = pd.DataFrame(data, columns=['interface','Time', 'Source', 'Destination', 'Length'])"
   ]
  },
  {
   "cell_type": "code",
   "execution_count": 71,
   "metadata": {},
   "outputs": [],
   "source": [
    "ip = get_if_addr(most_used_interface)\n",
    "sniffed_df['outbound'] = sniffed_df['Source'].apply(lambda x : x == ip)"
   ]
  },
  {
   "cell_type": "code",
   "execution_count": 82,
   "metadata": {},
   "outputs": [
    {
     "ename": "AttributeError",
     "evalue": "'DataFrame' object has no attribute 'Time'",
     "output_type": "error",
     "traceback": [
      "\u001b[0;31m---------------------------------------------------------------------------\u001b[0m",
      "\u001b[0;31mAttributeError\u001b[0m                            Traceback (most recent call last)",
      "\u001b[0;32m/var/folders/g8/rlz57xbs0633vcsnb4yyvr8c0000gn/T/ipykernel_14797/2913386140.py\u001b[0m in \u001b[0;36m<module>\u001b[0;34m\u001b[0m\n\u001b[0;32m----> 1\u001b[0;31m \u001b[0msniffed_df\u001b[0m\u001b[0;34m[\u001b[0m\u001b[0;34m'delta'\u001b[0m\u001b[0;34m]\u001b[0m \u001b[0;34m=\u001b[0m \u001b[0msniffed_df\u001b[0m\u001b[0;34m.\u001b[0m\u001b[0mTime\u001b[0m\u001b[0;34m.\u001b[0m\u001b[0mdiff\u001b[0m\u001b[0;34m(\u001b[0m\u001b[0;34m)\u001b[0m\u001b[0;34m\u001b[0m\u001b[0;34m\u001b[0m\u001b[0m\n\u001b[0m\u001b[1;32m      2\u001b[0m \u001b[0mwindow\u001b[0m \u001b[0;34m=\u001b[0m \u001b[0;36m4\u001b[0m\u001b[0;34m\u001b[0m\u001b[0;34m\u001b[0m\u001b[0m\n\u001b[1;32m      3\u001b[0m \u001b[0;34m\u001b[0m\u001b[0m\n\u001b[1;32m      4\u001b[0m \u001b[0;31m# Delta Rolling average + Standard Deviation\u001b[0m\u001b[0;34m\u001b[0m\u001b[0;34m\u001b[0m\u001b[0m\n\u001b[1;32m      5\u001b[0m \u001b[0msniffed_df\u001b[0m\u001b[0;34m[\u001b[0m\u001b[0;34m'ra_delta'\u001b[0m\u001b[0;34m]\u001b[0m \u001b[0;34m=\u001b[0m \u001b[0msniffed_df\u001b[0m\u001b[0;34m.\u001b[0m\u001b[0mdelta\u001b[0m\u001b[0;34m.\u001b[0m\u001b[0mrolling\u001b[0m\u001b[0;34m(\u001b[0m\u001b[0mwindow\u001b[0m\u001b[0;34m=\u001b[0m\u001b[0mwindow\u001b[0m\u001b[0;34m)\u001b[0m\u001b[0;34m.\u001b[0m\u001b[0mmean\u001b[0m\u001b[0;34m(\u001b[0m\u001b[0;34m)\u001b[0m\u001b[0;34m\u001b[0m\u001b[0;34m\u001b[0m\u001b[0m\n",
      "\u001b[0;32m~/opt/anaconda3/lib/python3.9/site-packages/pandas/core/generic.py\u001b[0m in \u001b[0;36m__getattr__\u001b[0;34m(self, name)\u001b[0m\n\u001b[1;32m   5573\u001b[0m         ):\n\u001b[1;32m   5574\u001b[0m             \u001b[0;32mreturn\u001b[0m \u001b[0mself\u001b[0m\u001b[0;34m[\u001b[0m\u001b[0mname\u001b[0m\u001b[0;34m]\u001b[0m\u001b[0;34m\u001b[0m\u001b[0;34m\u001b[0m\u001b[0m\n\u001b[0;32m-> 5575\u001b[0;31m         \u001b[0;32mreturn\u001b[0m \u001b[0mobject\u001b[0m\u001b[0;34m.\u001b[0m\u001b[0m__getattribute__\u001b[0m\u001b[0;34m(\u001b[0m\u001b[0mself\u001b[0m\u001b[0;34m,\u001b[0m \u001b[0mname\u001b[0m\u001b[0;34m)\u001b[0m\u001b[0;34m\u001b[0m\u001b[0;34m\u001b[0m\u001b[0m\n\u001b[0m\u001b[1;32m   5576\u001b[0m \u001b[0;34m\u001b[0m\u001b[0m\n\u001b[1;32m   5577\u001b[0m     \u001b[0;32mdef\u001b[0m \u001b[0m__setattr__\u001b[0m\u001b[0;34m(\u001b[0m\u001b[0mself\u001b[0m\u001b[0;34m,\u001b[0m \u001b[0mname\u001b[0m\u001b[0;34m:\u001b[0m \u001b[0mstr\u001b[0m\u001b[0;34m,\u001b[0m \u001b[0mvalue\u001b[0m\u001b[0;34m)\u001b[0m \u001b[0;34m->\u001b[0m \u001b[0;32mNone\u001b[0m\u001b[0;34m:\u001b[0m\u001b[0;34m\u001b[0m\u001b[0;34m\u001b[0m\u001b[0m\n",
      "\u001b[0;31mAttributeError\u001b[0m: 'DataFrame' object has no attribute 'Time'"
     ]
    }
   ],
   "source": [
    "sniffed_df['delta'] = sniffed_df.Time.diff()\n",
    "window = 4 \n",
    "\n",
    "# Delta Rolling average + Standard Deviation\n",
    "sniffed_df['ra_delta'] = sniffed_df.delta.rolling(window=window).mean()\n",
    "sniffed_df['rstd_delta'] = sniffed_df.delta.rolling(window=window).std()\n",
    "\n",
    "# Delta Rolling average + Standard Deviation\n",
    "sniffed_df['ra_lenght'] = sniffed_df.Length.rolling(window=window).mean()\n",
    "sniffed_df['rstd_lenght'] = sniffed_df.Length.rolling(window=window).std()\n",
    "# remove useless columns\n",
    "sniffed_df.drop(['interface', 'Time', 'Source', 'Destination'], axis = 1, inplace = True)\n",
    "sniffed_df.dropna(inplace = True)"
   ]
  },
  {
   "cell_type": "code",
   "execution_count": 84,
   "metadata": {},
   "outputs": [
    {
     "data": {
      "text/html": [
       "<div>\n",
       "<style scoped>\n",
       "    .dataframe tbody tr th:only-of-type {\n",
       "        vertical-align: middle;\n",
       "    }\n",
       "\n",
       "    .dataframe tbody tr th {\n",
       "        vertical-align: top;\n",
       "    }\n",
       "\n",
       "    .dataframe thead th {\n",
       "        text-align: right;\n",
       "    }\n",
       "</style>\n",
       "<table border=\"1\" class=\"dataframe\">\n",
       "  <thead>\n",
       "    <tr style=\"text-align: right;\">\n",
       "      <th></th>\n",
       "      <th>Length</th>\n",
       "      <th>outbound</th>\n",
       "      <th>delta</th>\n",
       "      <th>ra_delta</th>\n",
       "      <th>rstd_delta</th>\n",
       "      <th>ra_lenght</th>\n",
       "      <th>rstd_lenght</th>\n",
       "    </tr>\n",
       "  </thead>\n",
       "  <tbody>\n",
       "    <tr>\n",
       "      <th>4</th>\n",
       "      <td>66</td>\n",
       "      <td>False</td>\n",
       "      <td>0.016744</td>\n",
       "      <td>0.007386</td>\n",
       "      <td>0.006339</td>\n",
       "      <td>75.0</td>\n",
       "      <td>11.489125</td>\n",
       "    </tr>\n",
       "    <tr>\n",
       "      <th>5</th>\n",
       "      <td>66</td>\n",
       "      <td>False</td>\n",
       "      <td>0.000422</td>\n",
       "      <td>0.006468</td>\n",
       "      <td>0.007184</td>\n",
       "      <td>69.0</td>\n",
       "      <td>6.000000</td>\n",
       "    </tr>\n",
       "    <tr>\n",
       "      <th>6</th>\n",
       "      <td>66</td>\n",
       "      <td>True</td>\n",
       "      <td>0.000085</td>\n",
       "      <td>0.005059</td>\n",
       "      <td>0.007897</td>\n",
       "      <td>69.0</td>\n",
       "      <td>6.000000</td>\n",
       "    </tr>\n",
       "    <tr>\n",
       "      <th>7</th>\n",
       "      <td>74</td>\n",
       "      <td>False</td>\n",
       "      <td>0.006493</td>\n",
       "      <td>0.005936</td>\n",
       "      <td>0.007784</td>\n",
       "      <td>68.0</td>\n",
       "      <td>4.000000</td>\n",
       "    </tr>\n",
       "    <tr>\n",
       "      <th>8</th>\n",
       "      <td>66</td>\n",
       "      <td>False</td>\n",
       "      <td>0.000366</td>\n",
       "      <td>0.001841</td>\n",
       "      <td>0.003105</td>\n",
       "      <td>68.0</td>\n",
       "      <td>4.000000</td>\n",
       "    </tr>\n",
       "    <tr>\n",
       "      <th>...</th>\n",
       "      <td>...</td>\n",
       "      <td>...</td>\n",
       "      <td>...</td>\n",
       "      <td>...</td>\n",
       "      <td>...</td>\n",
       "      <td>...</td>\n",
       "      <td>...</td>\n",
       "    </tr>\n",
       "    <tr>\n",
       "      <th>91</th>\n",
       "      <td>66</td>\n",
       "      <td>True</td>\n",
       "      <td>0.000081</td>\n",
       "      <td>0.005916</td>\n",
       "      <td>0.007353</td>\n",
       "      <td>66.0</td>\n",
       "      <td>0.000000</td>\n",
       "    </tr>\n",
       "    <tr>\n",
       "      <th>92</th>\n",
       "      <td>66</td>\n",
       "      <td>False</td>\n",
       "      <td>0.001926</td>\n",
       "      <td>0.004695</td>\n",
       "      <td>0.007557</td>\n",
       "      <td>66.0</td>\n",
       "      <td>0.000000</td>\n",
       "    </tr>\n",
       "    <tr>\n",
       "      <th>93</th>\n",
       "      <td>78</td>\n",
       "      <td>True</td>\n",
       "      <td>0.327506</td>\n",
       "      <td>0.082578</td>\n",
       "      <td>0.163287</td>\n",
       "      <td>69.0</td>\n",
       "      <td>6.000000</td>\n",
       "    </tr>\n",
       "    <tr>\n",
       "      <th>94</th>\n",
       "      <td>66</td>\n",
       "      <td>False</td>\n",
       "      <td>0.131037</td>\n",
       "      <td>0.115138</td>\n",
       "      <td>0.154281</td>\n",
       "      <td>69.0</td>\n",
       "      <td>6.000000</td>\n",
       "    </tr>\n",
       "    <tr>\n",
       "      <th>95</th>\n",
       "      <td>54</td>\n",
       "      <td>True</td>\n",
       "      <td>0.000156</td>\n",
       "      <td>0.115156</td>\n",
       "      <td>0.154263</td>\n",
       "      <td>66.0</td>\n",
       "      <td>9.797959</td>\n",
       "    </tr>\n",
       "  </tbody>\n",
       "</table>\n",
       "<p>92 rows × 7 columns</p>\n",
       "</div>"
      ],
      "text/plain": [
       "    Length  outbound     delta  ra_delta  rstd_delta  ra_lenght  rstd_lenght\n",
       "4       66     False  0.016744  0.007386    0.006339       75.0    11.489125\n",
       "5       66     False  0.000422  0.006468    0.007184       69.0     6.000000\n",
       "6       66      True  0.000085  0.005059    0.007897       69.0     6.000000\n",
       "7       74     False  0.006493  0.005936    0.007784       68.0     4.000000\n",
       "8       66     False  0.000366  0.001841    0.003105       68.0     4.000000\n",
       "..     ...       ...       ...       ...         ...        ...          ...\n",
       "91      66      True  0.000081  0.005916    0.007353       66.0     0.000000\n",
       "92      66     False  0.001926  0.004695    0.007557       66.0     0.000000\n",
       "93      78      True  0.327506  0.082578    0.163287       69.0     6.000000\n",
       "94      66     False  0.131037  0.115138    0.154281       69.0     6.000000\n",
       "95      54      True  0.000156  0.115156    0.154263       66.0     9.797959\n",
       "\n",
       "[92 rows x 7 columns]"
      ]
     },
     "execution_count": 84,
     "metadata": {},
     "output_type": "execute_result"
    }
   ],
   "source": [
    "sniffed_df"
   ]
  },
  {
   "cell_type": "code",
   "execution_count": 79,
   "metadata": {},
   "outputs": [],
   "source": [
    "sniffed_df.drop(['interface', 'Time', 'Source', 'Destination'], axis = 1, inplace = True)"
   ]
  },
  {
   "cell_type": "code",
   "execution_count": 80,
   "metadata": {},
   "outputs": [
    {
     "data": {
      "text/html": [
       "<div>\n",
       "<style scoped>\n",
       "    .dataframe tbody tr th:only-of-type {\n",
       "        vertical-align: middle;\n",
       "    }\n",
       "\n",
       "    .dataframe tbody tr th {\n",
       "        vertical-align: top;\n",
       "    }\n",
       "\n",
       "    .dataframe thead th {\n",
       "        text-align: right;\n",
       "    }\n",
       "</style>\n",
       "<table border=\"1\" class=\"dataframe\">\n",
       "  <thead>\n",
       "    <tr style=\"text-align: right;\">\n",
       "      <th></th>\n",
       "      <th>Length</th>\n",
       "      <th>delta</th>\n",
       "      <th>ra_delta</th>\n",
       "      <th>rstd_delta</th>\n",
       "      <th>ra_lenght</th>\n",
       "      <th>rstd_lenght</th>\n",
       "    </tr>\n",
       "  </thead>\n",
       "  <tbody>\n",
       "    <tr>\n",
       "      <th>count</th>\n",
       "      <td>96.000000</td>\n",
       "      <td>95.000000</td>\n",
       "      <td>9.200000e+01</td>\n",
       "      <td>9.200000e+01</td>\n",
       "      <td>93.000000</td>\n",
       "      <td>93.000000</td>\n",
       "    </tr>\n",
       "    <tr>\n",
       "      <th>mean</th>\n",
       "      <td>458.218750</td>\n",
       "      <td>0.018624</td>\n",
       "      <td>1.755500e-02</td>\n",
       "      <td>2.489220e-02</td>\n",
       "      <td>470.491935</td>\n",
       "      <td>296.476810</td>\n",
       "    </tr>\n",
       "    <tr>\n",
       "      <th>std</th>\n",
       "      <td>587.909485</td>\n",
       "      <td>0.045115</td>\n",
       "      <td>2.257477e-02</td>\n",
       "      <td>3.233447e-02</td>\n",
       "      <td>464.164644</td>\n",
       "      <td>305.360805</td>\n",
       "    </tr>\n",
       "    <tr>\n",
       "      <th>min</th>\n",
       "      <td>54.000000</td>\n",
       "      <td>0.000000</td>\n",
       "      <td>4.768372e-07</td>\n",
       "      <td>5.506043e-07</td>\n",
       "      <td>60.000000</td>\n",
       "      <td>0.000000</td>\n",
       "    </tr>\n",
       "    <tr>\n",
       "      <th>25%</th>\n",
       "      <td>66.000000</td>\n",
       "      <td>0.000083</td>\n",
       "      <td>1.543820e-03</td>\n",
       "      <td>2.697993e-03</td>\n",
       "      <td>76.750000</td>\n",
       "      <td>6.000000</td>\n",
       "    </tr>\n",
       "    <tr>\n",
       "      <th>50%</th>\n",
       "      <td>76.000000</td>\n",
       "      <td>0.001069</td>\n",
       "      <td>9.577870e-03</td>\n",
       "      <td>1.418785e-02</td>\n",
       "      <td>222.250000</td>\n",
       "      <td>231.295446</td>\n",
       "    </tr>\n",
       "    <tr>\n",
       "      <th>75%</th>\n",
       "      <td>862.750000</td>\n",
       "      <td>0.012953</td>\n",
       "      <td>2.634387e-02</td>\n",
       "      <td>3.829811e-02</td>\n",
       "      <td>778.000000</td>\n",
       "      <td>661.649643</td>\n",
       "    </tr>\n",
       "    <tr>\n",
       "      <th>max</th>\n",
       "      <td>1514.000000</td>\n",
       "      <td>0.327506</td>\n",
       "      <td>1.151562e-01</td>\n",
       "      <td>1.632871e-01</td>\n",
       "      <td>1494.000000</td>\n",
       "      <td>816.927322</td>\n",
       "    </tr>\n",
       "  </tbody>\n",
       "</table>\n",
       "</div>"
      ],
      "text/plain": [
       "            Length      delta      ra_delta    rstd_delta    ra_lenght  \\\n",
       "count    96.000000  95.000000  9.200000e+01  9.200000e+01    93.000000   \n",
       "mean    458.218750   0.018624  1.755500e-02  2.489220e-02   470.491935   \n",
       "std     587.909485   0.045115  2.257477e-02  3.233447e-02   464.164644   \n",
       "min      54.000000   0.000000  4.768372e-07  5.506043e-07    60.000000   \n",
       "25%      66.000000   0.000083  1.543820e-03  2.697993e-03    76.750000   \n",
       "50%      76.000000   0.001069  9.577870e-03  1.418785e-02   222.250000   \n",
       "75%     862.750000   0.012953  2.634387e-02  3.829811e-02   778.000000   \n",
       "max    1514.000000   0.327506  1.151562e-01  1.632871e-01  1494.000000   \n",
       "\n",
       "       rstd_lenght  \n",
       "count    93.000000  \n",
       "mean    296.476810  \n",
       "std     305.360805  \n",
       "min       0.000000  \n",
       "25%       6.000000  \n",
       "50%     231.295446  \n",
       "75%     661.649643  \n",
       "max     816.927322  "
      ]
     },
     "execution_count": 80,
     "metadata": {},
     "output_type": "execute_result"
    }
   ],
   "source": [
    "sniffed_df.describe()"
   ]
  },
  {
   "cell_type": "code",
   "execution_count": 94,
   "metadata": {},
   "outputs": [
    {
     "data": {
      "text/plain": [
       "'scappy-2023-03-04 15:07:34.135017'"
      ]
     },
     "execution_count": 94,
     "metadata": {},
     "output_type": "execute_result"
    }
   ],
   "source": [
    "a = datetime.datetime.now()\n",
    "f'scappy-{a}'"
   ]
  },
  {
   "cell_type": "code",
   "execution_count": 98,
   "metadata": {},
   "outputs": [],
   "source": [
    "sniffed_df.to_csv(f'network_sniff/scappy-{datetime.datetime.now()}', index = False)"
   ]
  },
  {
   "cell_type": "code",
   "execution_count": 99,
   "metadata": {},
   "outputs": [],
   "source": [
    "import platform"
   ]
  }
 ],
 "metadata": {
  "kernelspec": {
   "display_name": "Python 3",
   "language": "python",
   "name": "python3"
  },
  "language_info": {
   "codemirror_mode": {
    "name": "ipython",
    "version": 3
   },
   "file_extension": ".py",
   "mimetype": "text/x-python",
   "name": "python",
   "nbconvert_exporter": "python",
   "pygments_lexer": "ipython3",
   "version": "3.9.15"
  },
  "orig_nbformat": 4,
  "vscode": {
   "interpreter": {
    "hash": "63ec137b236f4571ddf6057b0ef98c638499ee8b49585d9f37af80a425d01971"
   }
  }
 },
 "nbformat": 4,
 "nbformat_minor": 2
}
