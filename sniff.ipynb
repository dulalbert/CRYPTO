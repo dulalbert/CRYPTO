{
 "cells": [
  {
   "cell_type": "code",
   "execution_count": 6,
   "metadata": {},
   "outputs": [],
   "source": [
    "import pandas as pd"
   ]
  },
  {
   "cell_type": "code",
   "execution_count": 2,
   "metadata": {},
   "outputs": [
    {
     "data": {
      "text/html": [
       "<div>\n",
       "<style scoped>\n",
       "    .dataframe tbody tr th:only-of-type {\n",
       "        vertical-align: middle;\n",
       "    }\n",
       "\n",
       "    .dataframe tbody tr th {\n",
       "        vertical-align: top;\n",
       "    }\n",
       "\n",
       "    .dataframe thead th {\n",
       "        text-align: right;\n",
       "    }\n",
       "</style>\n",
       "<table border=\"1\" class=\"dataframe\">\n",
       "  <thead>\n",
       "    <tr style=\"text-align: right;\">\n",
       "      <th></th>\n",
       "      <th>Unnamed: 0</th>\n",
       "      <th>interface</th>\n",
       "      <th>Time</th>\n",
       "      <th>Source</th>\n",
       "      <th>Destination</th>\n",
       "      <th>Length</th>\n",
       "    </tr>\n",
       "  </thead>\n",
       "  <tbody>\n",
       "    <tr>\n",
       "      <th>0</th>\n",
       "      <td>0</td>\n",
       "      <td>en0</td>\n",
       "      <td>1.677752e+09</td>\n",
       "      <td>00:23:eb:f9:60:c0</td>\n",
       "      <td>78:31:c1:bf:c0:76</td>\n",
       "      <td>118</td>\n",
       "    </tr>\n",
       "    <tr>\n",
       "      <th>1</th>\n",
       "      <td>1</td>\n",
       "      <td>en0</td>\n",
       "      <td>1.677752e+09</td>\n",
       "      <td>78:31:c1:bf:c0:76</td>\n",
       "      <td>00:00:0c:07:ac:4c</td>\n",
       "      <td>235</td>\n",
       "    </tr>\n",
       "    <tr>\n",
       "      <th>2</th>\n",
       "      <td>2</td>\n",
       "      <td>en0</td>\n",
       "      <td>1.677752e+09</td>\n",
       "      <td>78:31:c1:bf:c0:76</td>\n",
       "      <td>00:00:0c:07:ac:4c</td>\n",
       "      <td>1304</td>\n",
       "    </tr>\n",
       "    <tr>\n",
       "      <th>3</th>\n",
       "      <td>3</td>\n",
       "      <td>en0</td>\n",
       "      <td>1.677752e+09</td>\n",
       "      <td>78:31:c1:bf:c0:76</td>\n",
       "      <td>00:00:0c:07:ac:4c</td>\n",
       "      <td>1137</td>\n",
       "    </tr>\n",
       "  </tbody>\n",
       "</table>\n",
       "</div>"
      ],
      "text/plain": [
       "   Unnamed: 0 interface          Time             Source        Destination  \\\n",
       "0           0       en0  1.677752e+09  00:23:eb:f9:60:c0  78:31:c1:bf:c0:76   \n",
       "1           1       en0  1.677752e+09  78:31:c1:bf:c0:76  00:00:0c:07:ac:4c   \n",
       "2           2       en0  1.677752e+09  78:31:c1:bf:c0:76  00:00:0c:07:ac:4c   \n",
       "3           3       en0  1.677752e+09  78:31:c1:bf:c0:76  00:00:0c:07:ac:4c   \n",
       "\n",
       "   Length  \n",
       "0     118  \n",
       "1     235  \n",
       "2    1304  \n",
       "3    1137  "
      ]
     },
     "execution_count": 2,
     "metadata": {},
     "output_type": "execute_result"
    }
   ],
   "source": [
    "pd.read_csv('sniffed_df.csv')"
   ]
  },
  {
   "cell_type": "code",
   "execution_count": 7,
   "metadata": {},
   "outputs": [
    {
     "name": "stderr",
     "output_type": "stream",
     "text": [
      "WARNING: No IPv4 address found on en1 !\n",
      "WARNING: No IPv4 address found on en2 !\n",
      "WARNING: more No IPv4 address found on bridge0 !\n"
     ]
    }
   ],
   "source": [
    "import netifaces\n",
    "from scapy.all import *\n",
    "import pandas as pd\n",
    "import time"
   ]
  },
  {
   "cell_type": "code",
   "execution_count": 6,
   "metadata": {},
   "outputs": [
    {
     "data": {
      "text/plain": [
       "1677753052.2696939"
      ]
     },
     "execution_count": 6,
     "metadata": {},
     "output_type": "execute_result"
    }
   ],
   "source": [
    "time.time()"
   ]
  },
  {
   "cell_type": "code",
   "execution_count": 53,
   "metadata": {},
   "outputs": [],
   "source": [
    "# On garde que les ports wifi et ethernet\n",
    "interfaces = list(filter(lambda s: ('en' or 'eth') in s, netifaces.interfaces()))\n",
    "\n",
    "# Capturer les packets pendant 20 secondes\n",
    "pkt = sniff(iface=interfaces, count=100)\n",
    "\n",
    "data = []\n",
    "for packet in pkt:\n",
    "    data.append([packet.sniffed_on ,packet.time, packet.src, packet.dst, len(packet)])\n",
    "\n",
    "sniffed_df = pd.DataFrame(data, columns=['interface','Time', 'Source', 'Destination', 'Length'])\n",
    "\n",
    "#Filtrer sur l'interface la plus utilisée\n",
    "most_used_interface = sniffed_df.groupby(by = 'interface').sum('Length').nlargest(1, 'Length').iloc[0].name\n",
    "sniffed_df = sniffed_df.where(sniffed_df[\"interface\"] == most_used_interface)\n",
    "\n"
   ]
  },
  {
   "cell_type": "code",
   "execution_count": 56,
   "metadata": {},
   "outputs": [
    {
     "data": {
      "text/html": [
       "<div>\n",
       "<style scoped>\n",
       "    .dataframe tbody tr th:only-of-type {\n",
       "        vertical-align: middle;\n",
       "    }\n",
       "\n",
       "    .dataframe tbody tr th {\n",
       "        vertical-align: top;\n",
       "    }\n",
       "\n",
       "    .dataframe thead th {\n",
       "        text-align: right;\n",
       "    }\n",
       "</style>\n",
       "<table border=\"1\" class=\"dataframe\">\n",
       "  <thead>\n",
       "    <tr style=\"text-align: right;\">\n",
       "      <th></th>\n",
       "      <th>interface</th>\n",
       "      <th>Time</th>\n",
       "      <th>Source</th>\n",
       "      <th>Destination</th>\n",
       "      <th>Length</th>\n",
       "    </tr>\n",
       "  </thead>\n",
       "  <tbody>\n",
       "    <tr>\n",
       "      <th>0</th>\n",
       "      <td>en0</td>\n",
       "      <td>1.677756e+09</td>\n",
       "      <td>78:31:c1:bf:c0:76</td>\n",
       "      <td>00:00:0c:07:ac:4c</td>\n",
       "      <td>78</td>\n",
       "    </tr>\n",
       "    <tr>\n",
       "      <th>1</th>\n",
       "      <td>en0</td>\n",
       "      <td>1.677756e+09</td>\n",
       "      <td>78:31:c1:bf:c0:76</td>\n",
       "      <td>00:00:0c:07:ac:4c</td>\n",
       "      <td>587</td>\n",
       "    </tr>\n",
       "    <tr>\n",
       "      <th>2</th>\n",
       "      <td>en0</td>\n",
       "      <td>1.677756e+09</td>\n",
       "      <td>00:23:eb:f9:60:c0</td>\n",
       "      <td>78:31:c1:bf:c0:76</td>\n",
       "      <td>66</td>\n",
       "    </tr>\n",
       "    <tr>\n",
       "      <th>3</th>\n",
       "      <td>en0</td>\n",
       "      <td>1.677756e+09</td>\n",
       "      <td>00:23:eb:f9:60:c0</td>\n",
       "      <td>78:31:c1:bf:c0:76</td>\n",
       "      <td>129</td>\n",
       "    </tr>\n",
       "    <tr>\n",
       "      <th>4</th>\n",
       "      <td>en0</td>\n",
       "      <td>1.677756e+09</td>\n",
       "      <td>00:23:eb:f9:60:c0</td>\n",
       "      <td>78:31:c1:bf:c0:76</td>\n",
       "      <td>97</td>\n",
       "    </tr>\n",
       "    <tr>\n",
       "      <th>...</th>\n",
       "      <td>...</td>\n",
       "      <td>...</td>\n",
       "      <td>...</td>\n",
       "      <td>...</td>\n",
       "      <td>...</td>\n",
       "    </tr>\n",
       "    <tr>\n",
       "      <th>95</th>\n",
       "      <td>en0</td>\n",
       "      <td>1.677756e+09</td>\n",
       "      <td>00:23:eb:f9:60:c0</td>\n",
       "      <td>78:31:c1:bf:c0:76</td>\n",
       "      <td>1304</td>\n",
       "    </tr>\n",
       "    <tr>\n",
       "      <th>96</th>\n",
       "      <td>en0</td>\n",
       "      <td>1.677756e+09</td>\n",
       "      <td>00:23:eb:f9:60:c0</td>\n",
       "      <td>78:31:c1:bf:c0:76</td>\n",
       "      <td>1304</td>\n",
       "    </tr>\n",
       "    <tr>\n",
       "      <th>97</th>\n",
       "      <td>en0</td>\n",
       "      <td>1.677756e+09</td>\n",
       "      <td>00:23:eb:f9:60:c0</td>\n",
       "      <td>78:31:c1:bf:c0:76</td>\n",
       "      <td>1304</td>\n",
       "    </tr>\n",
       "    <tr>\n",
       "      <th>98</th>\n",
       "      <td>en0</td>\n",
       "      <td>1.677756e+09</td>\n",
       "      <td>00:23:eb:f9:60:c0</td>\n",
       "      <td>78:31:c1:bf:c0:76</td>\n",
       "      <td>1304</td>\n",
       "    </tr>\n",
       "    <tr>\n",
       "      <th>99</th>\n",
       "      <td>en0</td>\n",
       "      <td>1.677756e+09</td>\n",
       "      <td>78:31:c1:bf:c0:76</td>\n",
       "      <td>00:00:0c:07:ac:4c</td>\n",
       "      <td>66</td>\n",
       "    </tr>\n",
       "  </tbody>\n",
       "</table>\n",
       "<p>100 rows × 5 columns</p>\n",
       "</div>"
      ],
      "text/plain": [
       "   interface          Time             Source        Destination  Length\n",
       "0        en0  1.677756e+09  78:31:c1:bf:c0:76  00:00:0c:07:ac:4c      78\n",
       "1        en0  1.677756e+09  78:31:c1:bf:c0:76  00:00:0c:07:ac:4c     587\n",
       "2        en0  1.677756e+09  00:23:eb:f9:60:c0  78:31:c1:bf:c0:76      66\n",
       "3        en0  1.677756e+09  00:23:eb:f9:60:c0  78:31:c1:bf:c0:76     129\n",
       "4        en0  1.677756e+09  00:23:eb:f9:60:c0  78:31:c1:bf:c0:76      97\n",
       "..       ...           ...                ...                ...     ...\n",
       "95       en0  1.677756e+09  00:23:eb:f9:60:c0  78:31:c1:bf:c0:76    1304\n",
       "96       en0  1.677756e+09  00:23:eb:f9:60:c0  78:31:c1:bf:c0:76    1304\n",
       "97       en0  1.677756e+09  00:23:eb:f9:60:c0  78:31:c1:bf:c0:76    1304\n",
       "98       en0  1.677756e+09  00:23:eb:f9:60:c0  78:31:c1:bf:c0:76    1304\n",
       "99       en0  1.677756e+09  78:31:c1:bf:c0:76  00:00:0c:07:ac:4c      66\n",
       "\n",
       "[100 rows x 5 columns]"
      ]
     },
     "execution_count": 56,
     "metadata": {},
     "output_type": "execute_result"
    }
   ],
   "source": [
    "sniffed_df"
   ]
  },
  {
   "cell_type": "code",
   "execution_count": null,
   "metadata": {},
   "outputs": [],
   "source": []
  }
 ],
 "metadata": {
  "kernelspec": {
   "display_name": "Python 3",
   "language": "python",
   "name": "python3"
  },
  "language_info": {
   "codemirror_mode": {
    "name": "ipython",
    "version": 3
   },
   "file_extension": ".py",
   "mimetype": "text/x-python",
   "name": "python",
   "nbconvert_exporter": "python",
   "pygments_lexer": "ipython3",
   "version": "3.9.15"
  },
  "orig_nbformat": 4,
  "vscode": {
   "interpreter": {
    "hash": "63ec137b236f4571ddf6057b0ef98c638499ee8b49585d9f37af80a425d01971"
   }
  }
 },
 "nbformat": 4,
 "nbformat_minor": 2
}
