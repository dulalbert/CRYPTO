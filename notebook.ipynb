{
 "cells": [
  {
   "cell_type": "code",
   "execution_count": 39,
   "metadata": {},
   "outputs": [],
   "source": [
    "import pandas as pd\n",
    "import os\n",
    "import time\n",
    "import numpy as np\n",
    "import pandas as pd\n",
    "#from sklearnex import patch_sklearn #use intel patch before importing sklearn\n",
    "#patch_sklearn()\n",
    "from sklearn import preprocessing\n",
    "from sklearn.pipeline import Pipeline\n",
    "from sklearn.model_selection import train_test_split, cross_validate, GridSearchCV\n",
    "from sklearn import linear_model, svm, tree, ensemble, neighbors\n",
    "from sklearn.metrics import r2_score, mean_absolute_error, mean_squared_error, ConfusionMatrixDisplay\n",
    "import matplotlib.pyplot as plt\n",
    "\n",
    "from xgboost import XGBRegressor\n",
    "import lightgbm as lgbm\n",
    "\n",
    "from sklearn.neural_network import MLPClassifier\n",
    "from sklearn.linear_model import SGDClassifier\n",
    "from sklearn import  ensemble"
   ]
  },
  {
   "cell_type": "code",
   "execution_count": 40,
   "metadata": {},
   "outputs": [],
   "source": [
    "#%cd ./network_sniff/\n",
    "#%ls"
   ]
  },
  {
   "cell_type": "markdown",
   "metadata": {},
   "source": [
    "# 0) Create reporting "
   ]
  },
  {
   "cell_type": "code",
   "execution_count": 41,
   "metadata": {},
   "outputs": [],
   "source": [
    "def model_cv_rapport(model , name  : str, x : np.array, y : np.array, cv=5, precision = 8):\n",
    "    \"\"\"\n",
    "    Apply the model then cross validate and export its score \n",
    "    \"\"\"\n",
    "    #making sure data is standarized\n",
    "    pipe = Pipeline([\n",
    "        ('scale', preprocessing.StandardScaler()),\n",
    "        ('clf', model)\n",
    "    ])\n",
    "    score = cross_validate(pipe, x, y, cv=cv,\n",
    "                           scoring=[\"precision\", \"recall\", \"f1\", \"roc_auc\", \"accuracy\"],\n",
    "                           #verbose=10,\n",
    "                           n_jobs=-1)\n",
    "    print (name, \"--------------------------------------\")\n",
    "    print(\"Precision: \", round(score[\"test_precision\"].mean(), precision))\n",
    "    print(\"Recall: \", round(score[\"test_recall\"].mean(), precision))\n",
    "    #print(\"F1: \", round(score[\"test_f1\"].mean(), precision))\n",
    "    #print(\"ROC: \", round(score[\"test_roc_auc\"].mean(), precision))\n",
    "    #print(\"Accuracy: \", round(score[\"test_accuracy\"].mean(), precision))"
   ]
  },
  {
   "cell_type": "markdown",
   "metadata": {},
   "source": [
    "# 1) Import the dataset"
   ]
  },
  {
   "cell_type": "markdown",
   "metadata": {},
   "source": [
    "As https://doi.org/10.1016/j.comcom.2021.02.016 and promizing : http://doi.acm.org/10.1145/3243734.3243858\n"
   ]
  },
  {
   "cell_type": "code",
   "execution_count": 42,
   "metadata": {},
   "outputs": [],
   "source": [
    "df_mining = pd.read_csv(os.getcwd()+'/network_sniff/traffic_minage_1811_15.csv', index_col= 0)\n",
    "df_not_mining = pd.read_csv(os.getcwd()+'/network_sniff/2911_traffic_calme.csv', index_col= 0)"
   ]
  },
  {
   "cell_type": "code",
   "execution_count": 43,
   "metadata": {},
   "outputs": [
    {
     "data": {
      "text/html": [
       "<div>\n",
       "<style scoped>\n",
       "    .dataframe tbody tr th:only-of-type {\n",
       "        vertical-align: middle;\n",
       "    }\n",
       "\n",
       "    .dataframe tbody tr th {\n",
       "        vertical-align: top;\n",
       "    }\n",
       "\n",
       "    .dataframe thead th {\n",
       "        text-align: right;\n",
       "    }\n",
       "</style>\n",
       "<table border=\"1\" class=\"dataframe\">\n",
       "  <thead>\n",
       "    <tr style=\"text-align: right;\">\n",
       "      <th></th>\n",
       "      <th>Time</th>\n",
       "      <th>Source</th>\n",
       "      <th>Protocol</th>\n",
       "      <th>Length</th>\n",
       "      <th>Info</th>\n",
       "    </tr>\n",
       "    <tr>\n",
       "      <th>Destination</th>\n",
       "      <th></th>\n",
       "      <th></th>\n",
       "      <th></th>\n",
       "      <th></th>\n",
       "      <th></th>\n",
       "    </tr>\n",
       "  </thead>\n",
       "  <tbody>\n",
       "    <tr>\n",
       "      <th>10.29.231.206</th>\n",
       "      <td>37</td>\n",
       "      <td>37</td>\n",
       "      <td>37</td>\n",
       "      <td>37</td>\n",
       "      <td>37</td>\n",
       "    </tr>\n",
       "    <tr>\n",
       "      <th>178.128.242.134</th>\n",
       "      <td>6</td>\n",
       "      <td>6</td>\n",
       "      <td>6</td>\n",
       "      <td>6</td>\n",
       "      <td>6</td>\n",
       "    </tr>\n",
       "    <tr>\n",
       "      <th>192.44.75.10</th>\n",
       "      <td>2</td>\n",
       "      <td>2</td>\n",
       "      <td>2</td>\n",
       "      <td>2</td>\n",
       "      <td>2</td>\n",
       "    </tr>\n",
       "    <tr>\n",
       "      <th>199.247.27.41</th>\n",
       "      <td>1</td>\n",
       "      <td>1</td>\n",
       "      <td>1</td>\n",
       "      <td>1</td>\n",
       "      <td>1</td>\n",
       "    </tr>\n",
       "    <tr>\n",
       "      <th>23.200.86.233</th>\n",
       "      <td>8</td>\n",
       "      <td>8</td>\n",
       "      <td>8</td>\n",
       "      <td>8</td>\n",
       "      <td>8</td>\n",
       "    </tr>\n",
       "    <tr>\n",
       "      <th>23.200.87.12</th>\n",
       "      <td>6</td>\n",
       "      <td>6</td>\n",
       "      <td>6</td>\n",
       "      <td>6</td>\n",
       "      <td>6</td>\n",
       "    </tr>\n",
       "    <tr>\n",
       "      <th>34.120.208.123</th>\n",
       "      <td>2</td>\n",
       "      <td>2</td>\n",
       "      <td>2</td>\n",
       "      <td>2</td>\n",
       "      <td>2</td>\n",
       "    </tr>\n",
       "    <tr>\n",
       "      <th>34.160.144.191</th>\n",
       "      <td>2</td>\n",
       "      <td>2</td>\n",
       "      <td>2</td>\n",
       "      <td>2</td>\n",
       "      <td>2</td>\n",
       "    </tr>\n",
       "    <tr>\n",
       "      <th>34.98.75.36</th>\n",
       "      <td>2</td>\n",
       "      <td>2</td>\n",
       "      <td>2</td>\n",
       "      <td>2</td>\n",
       "      <td>2</td>\n",
       "    </tr>\n",
       "    <tr>\n",
       "      <th>35.244.181.201</th>\n",
       "      <td>2</td>\n",
       "      <td>2</td>\n",
       "      <td>2</td>\n",
       "      <td>2</td>\n",
       "      <td>2</td>\n",
       "    </tr>\n",
       "    <tr>\n",
       "      <th>52.84.174.83</th>\n",
       "      <td>9</td>\n",
       "      <td>9</td>\n",
       "      <td>9</td>\n",
       "      <td>9</td>\n",
       "      <td>9</td>\n",
       "    </tr>\n",
       "    <tr>\n",
       "      <th>93.184.220.29</th>\n",
       "      <td>6</td>\n",
       "      <td>6</td>\n",
       "      <td>6</td>\n",
       "      <td>6</td>\n",
       "      <td>6</td>\n",
       "    </tr>\n",
       "    <tr>\n",
       "      <th>All-HSRP-routers_ea</th>\n",
       "      <td>1</td>\n",
       "      <td>1</td>\n",
       "      <td>1</td>\n",
       "      <td>1</td>\n",
       "      <td>1</td>\n",
       "    </tr>\n",
       "    <tr>\n",
       "      <th>RealtekU_4c:cc:50</th>\n",
       "      <td>1</td>\n",
       "      <td>1</td>\n",
       "      <td>1</td>\n",
       "      <td>1</td>\n",
       "      <td>1</td>\n",
       "    </tr>\n",
       "  </tbody>\n",
       "</table>\n",
       "</div>"
      ],
      "text/plain": [
       "                     Time  Source  Protocol  Length  Info\n",
       "Destination                                              \n",
       "10.29.231.206          37      37        37      37    37\n",
       "178.128.242.134         6       6         6       6     6\n",
       "192.44.75.10            2       2         2       2     2\n",
       "199.247.27.41           1       1         1       1     1\n",
       "23.200.86.233           8       8         8       8     8\n",
       "23.200.87.12            6       6         6       6     6\n",
       "34.120.208.123          2       2         2       2     2\n",
       "34.160.144.191          2       2         2       2     2\n",
       "34.98.75.36             2       2         2       2     2\n",
       "35.244.181.201          2       2         2       2     2\n",
       "52.84.174.83            9       9         9       9     9\n",
       "93.184.220.29           6       6         6       6     6\n",
       "All-HSRP-routers_ea     1       1         1       1     1\n",
       "RealtekU_4c:cc:50       1       1         1       1     1"
      ]
     },
     "execution_count": 43,
     "metadata": {},
     "output_type": "execute_result"
    }
   ],
   "source": [
    "df_mining.groupby('Destination').count()\n"
   ]
  },
  {
   "cell_type": "markdown",
   "metadata": {},
   "source": [
    "We define all traffic trom the mining dataset as comming from the miner and all the one from the other dataset as not mining\n",
    "Moreover we add the direction of the package"
   ]
  },
  {
   "cell_type": "code",
   "execution_count": 44,
   "metadata": {},
   "outputs": [],
   "source": [
    "df_mining['miner'] = True\n",
    "df_mining['outbound'] = df_mining['Source'].apply(lambda x : x == '10.29.231.206') #change ip of miner\n",
    "df_not_mining['miner'] = False\n",
    "df_not_mining['outbound'] = df_not_mining['Source'].apply(lambda x : x == '10.29.229.98')"
   ]
  },
  {
   "cell_type": "markdown",
   "metadata": {},
   "source": [
    "Compute time difference between two packages"
   ]
  },
  {
   "cell_type": "code",
   "execution_count": 45,
   "metadata": {},
   "outputs": [],
   "source": [
    "df_mining['delta'] = df_mining.Time.diff()\n",
    "df_not_mining['delta'] = df_not_mining.Time.diff()"
   ]
  },
  {
   "cell_type": "markdown",
   "metadata": {},
   "source": [
    "Compute time and packet size rolling average and std"
   ]
  },
  {
   "cell_type": "code",
   "execution_count": 46,
   "metadata": {},
   "outputs": [],
   "source": [
    "window = 4"
   ]
  },
  {
   "cell_type": "code",
   "execution_count": 47,
   "metadata": {},
   "outputs": [],
   "source": [
    "# delta\n",
    "# Rolling average\n",
    "df_mining['ra_delta'] = df_mining.delta.rolling(window=window).mean()\n",
    "df_not_mining['ra_delta'] = df_not_mining.delta.diff().rolling(window=window).mean()\n",
    "# Standard Deviation\n",
    "df_mining['rstd_delta'] = df_mining.delta.rolling(window=window).mean()\n",
    "df_not_mining['rstd_delta'] = df_not_mining.delta.diff().rolling(window=window).mean()\n",
    "\n",
    "# Lenght\n",
    "# Rolling average\n",
    "df_mining['ra_lenght'] = df_mining.Length.rolling(window=window).mean()\n",
    "df_not_mining['ra_lenght'] = df_not_mining.Length.diff().rolling(window=window).mean()\n",
    "# Standard Deviation\n",
    "df_mining['rstd_lenght'] = df_mining.Length.rolling(window=window).std()\n",
    "df_not_mining['rstd_lenght'] = df_not_mining.Length.diff().rolling(window=window).std()\n"
   ]
  },
  {
   "cell_type": "code",
   "execution_count": 48,
   "metadata": {},
   "outputs": [],
   "source": [
    "df_ML = pd.concat([df_mining, df_not_mining], ignore_index=True)\n",
    "df_ML.reset_index(inplace = True, drop = True)\n",
    "df_ML.drop(['Time', 'Source', 'Destination', 'Protocol', 'Info'], axis = 1, inplace = True)\n"
   ]
  },
  {
   "cell_type": "code",
   "execution_count": 49,
   "metadata": {},
   "outputs": [
    {
     "data": {
      "text/html": [
       "<div>\n",
       "<style scoped>\n",
       "    .dataframe tbody tr th:only-of-type {\n",
       "        vertical-align: middle;\n",
       "    }\n",
       "\n",
       "    .dataframe tbody tr th {\n",
       "        vertical-align: top;\n",
       "    }\n",
       "\n",
       "    .dataframe thead th {\n",
       "        text-align: right;\n",
       "    }\n",
       "</style>\n",
       "<table border=\"1\" class=\"dataframe\">\n",
       "  <thead>\n",
       "    <tr style=\"text-align: right;\">\n",
       "      <th></th>\n",
       "      <th>Length</th>\n",
       "      <th>delta</th>\n",
       "      <th>ra_delta</th>\n",
       "      <th>rstd_delta</th>\n",
       "      <th>ra_lenght</th>\n",
       "      <th>rstd_lenght</th>\n",
       "    </tr>\n",
       "  </thead>\n",
       "  <tbody>\n",
       "    <tr>\n",
       "      <th>count</th>\n",
       "      <td>41272.000000</td>\n",
       "      <td>4.127000e+04</td>\n",
       "      <td>4.126300e+04</td>\n",
       "      <td>4.126300e+04</td>\n",
       "      <td>41265.000000</td>\n",
       "      <td>41265.000000</td>\n",
       "    </tr>\n",
       "    <tr>\n",
       "      <th>mean</th>\n",
       "      <td>753.771613</td>\n",
       "      <td>3.151798e-02</td>\n",
       "      <td>1.453039e-03</td>\n",
       "      <td>1.453039e-03</td>\n",
       "      <td>0.168939</td>\n",
       "      <td>1332.260381</td>\n",
       "    </tr>\n",
       "    <tr>\n",
       "      <th>std</th>\n",
       "      <td>1059.517408</td>\n",
       "      <td>6.948798e-01</td>\n",
       "      <td>2.461157e-01</td>\n",
       "      <td>2.461157e-01</td>\n",
       "      <td>282.003832</td>\n",
       "      <td>1201.291351</td>\n",
       "    </tr>\n",
       "    <tr>\n",
       "      <th>min</th>\n",
       "      <td>42.000000</td>\n",
       "      <td>-6.599998e-08</td>\n",
       "      <td>-2.729894e+01</td>\n",
       "      <td>-2.729894e+01</td>\n",
       "      <td>-1134.000000</td>\n",
       "      <td>0.000000</td>\n",
       "    </tr>\n",
       "    <tr>\n",
       "      <th>25%</th>\n",
       "      <td>66.000000</td>\n",
       "      <td>1.103925e-05</td>\n",
       "      <td>-5.942175e-05</td>\n",
       "      <td>-5.942175e-05</td>\n",
       "      <td>-20.250000</td>\n",
       "      <td>175.200837</td>\n",
       "    </tr>\n",
       "    <tr>\n",
       "      <th>50%</th>\n",
       "      <td>105.000000</td>\n",
       "      <td>1.887860e-04</td>\n",
       "      <td>-4.725001e-08</td>\n",
       "      <td>-4.725001e-08</td>\n",
       "      <td>0.000000</td>\n",
       "      <td>1143.095213</td>\n",
       "    </tr>\n",
       "    <tr>\n",
       "      <th>75%</th>\n",
       "      <td>1466.000000</td>\n",
       "      <td>4.567025e-04</td>\n",
       "      <td>5.934062e-05</td>\n",
       "      <td>5.934062e-05</td>\n",
       "      <td>21.750000</td>\n",
       "      <td>2364.574098</td>\n",
       "    </tr>\n",
       "    <tr>\n",
       "      <th>max</th>\n",
       "      <td>6806.000000</td>\n",
       "      <td>1.092041e+02</td>\n",
       "      <td>2.730102e+01</td>\n",
       "      <td>2.730102e+01</td>\n",
       "      <td>1637.750000</td>\n",
       "      <td>5287.348422</td>\n",
       "    </tr>\n",
       "  </tbody>\n",
       "</table>\n",
       "</div>"
      ],
      "text/plain": [
       "             Length         delta      ra_delta    rstd_delta     ra_lenght  \\\n",
       "count  41272.000000  4.127000e+04  4.126300e+04  4.126300e+04  41265.000000   \n",
       "mean     753.771613  3.151798e-02  1.453039e-03  1.453039e-03      0.168939   \n",
       "std     1059.517408  6.948798e-01  2.461157e-01  2.461157e-01    282.003832   \n",
       "min       42.000000 -6.599998e-08 -2.729894e+01 -2.729894e+01  -1134.000000   \n",
       "25%       66.000000  1.103925e-05 -5.942175e-05 -5.942175e-05    -20.250000   \n",
       "50%      105.000000  1.887860e-04 -4.725001e-08 -4.725001e-08      0.000000   \n",
       "75%     1466.000000  4.567025e-04  5.934062e-05  5.934062e-05     21.750000   \n",
       "max     6806.000000  1.092041e+02  2.730102e+01  2.730102e+01   1637.750000   \n",
       "\n",
       "        rstd_lenght  \n",
       "count  41265.000000  \n",
       "mean    1332.260381  \n",
       "std     1201.291351  \n",
       "min        0.000000  \n",
       "25%      175.200837  \n",
       "50%     1143.095213  \n",
       "75%     2364.574098  \n",
       "max     5287.348422  "
      ]
     },
     "execution_count": 49,
     "metadata": {},
     "output_type": "execute_result"
    }
   ],
   "source": [
    "df_ML.describe()"
   ]
  },
  {
   "cell_type": "code",
   "execution_count": 50,
   "metadata": {},
   "outputs": [
    {
     "data": {
      "text/plain": [
       "Index(['Length', 'miner', 'outbound', 'delta', 'ra_delta', 'rstd_delta',\n",
       "       'ra_lenght', 'rstd_lenght'],\n",
       "      dtype='object')"
      ]
     },
     "execution_count": 50,
     "metadata": {},
     "output_type": "execute_result"
    }
   ],
   "source": [
    "df_ML.describe()\n",
    "df_ML.dropna(inplace = True)\n",
    "df_ML.columns"
   ]
  },
  {
   "cell_type": "code",
   "execution_count": 51,
   "metadata": {},
   "outputs": [
    {
     "data": {
      "text/html": [
       "<div>\n",
       "<style scoped>\n",
       "    .dataframe tbody tr th:only-of-type {\n",
       "        vertical-align: middle;\n",
       "    }\n",
       "\n",
       "    .dataframe tbody tr th {\n",
       "        vertical-align: top;\n",
       "    }\n",
       "\n",
       "    .dataframe thead th {\n",
       "        text-align: right;\n",
       "    }\n",
       "</style>\n",
       "<table border=\"1\" class=\"dataframe\">\n",
       "  <thead>\n",
       "    <tr style=\"text-align: right;\">\n",
       "      <th></th>\n",
       "      <th>Length</th>\n",
       "      <th>outbound</th>\n",
       "      <th>delta</th>\n",
       "      <th>ra_delta</th>\n",
       "      <th>rstd_delta</th>\n",
       "      <th>ra_lenght</th>\n",
       "      <th>rstd_lenght</th>\n",
       "    </tr>\n",
       "    <tr>\n",
       "      <th>miner</th>\n",
       "      <th></th>\n",
       "      <th></th>\n",
       "      <th></th>\n",
       "      <th></th>\n",
       "      <th></th>\n",
       "      <th></th>\n",
       "      <th></th>\n",
       "    </tr>\n",
       "  </thead>\n",
       "  <tbody>\n",
       "    <tr>\n",
       "      <th>False</th>\n",
       "      <td>755.204045</td>\n",
       "      <td>0.468117</td>\n",
       "      <td>0.030102</td>\n",
       "      <td>-4.894163e-08</td>\n",
       "      <td>-4.894163e-08</td>\n",
       "      <td>-0.005330</td>\n",
       "      <td>1334.872385</td>\n",
       "    </tr>\n",
       "    <tr>\n",
       "      <th>True</th>\n",
       "      <td>84.024691</td>\n",
       "      <td>0.543210</td>\n",
       "      <td>0.753654</td>\n",
       "      <td>7.402318e-01</td>\n",
       "      <td>7.402318e-01</td>\n",
       "      <td>86.472222</td>\n",
       "      <td>30.853181</td>\n",
       "    </tr>\n",
       "  </tbody>\n",
       "</table>\n",
       "</div>"
      ],
      "text/plain": [
       "           Length  outbound     delta      ra_delta    rstd_delta  ra_lenght  \\\n",
       "miner                                                                          \n",
       "False  755.204045  0.468117  0.030102 -4.894163e-08 -4.894163e-08  -0.005330   \n",
       "True    84.024691  0.543210  0.753654  7.402318e-01  7.402318e-01  86.472222   \n",
       "\n",
       "       rstd_lenght  \n",
       "miner               \n",
       "False  1334.872385  \n",
       "True     30.853181  "
      ]
     },
     "execution_count": 51,
     "metadata": {},
     "output_type": "execute_result"
    }
   ],
   "source": [
    "df_ML.groupby('miner').mean()"
   ]
  },
  {
   "cell_type": "code",
   "execution_count": 52,
   "metadata": {},
   "outputs": [
    {
     "data": {
      "text/plain": [
       "array([[<AxesSubplot:title={'center':'Length'}>,\n",
       "        <AxesSubplot:title={'center':'delta'}>],\n",
       "       [<AxesSubplot:title={'center':'ra_delta'}>,\n",
       "        <AxesSubplot:title={'center':'rstd_delta'}>],\n",
       "       [<AxesSubplot:title={'center':'ra_lenght'}>,\n",
       "        <AxesSubplot:title={'center':'rstd_lenght'}>]], dtype=object)"
      ]
     },
     "execution_count": 52,
     "metadata": {},
     "output_type": "execute_result"
    },
    {
     "data": {
      "image/png": "[encoded data removed]",
      "text/plain": [
       "<Figure size 1440x720 with 6 Axes>"
      ]
     },
     "metadata": {
      "needs_background": "light"
     },
     "output_type": "display_data"
    }
   ],
   "source": [
    "df_ML.loc[df_ML['miner'] == True].select_dtypes(exclude=['boolean']).hist(figsize = (20,10))"
   ]
  },
  {
   "cell_type": "code",
   "execution_count": 53,
   "metadata": {},
   "outputs": [
    {
     "data": {
      "text/plain": [
       "array([[<AxesSubplot:title={'center':'Length'}>,\n",
       "        <AxesSubplot:title={'center':'delta'}>],\n",
       "       [<AxesSubplot:title={'center':'ra_delta'}>,\n",
       "        <AxesSubplot:title={'center':'rstd_delta'}>],\n",
       "       [<AxesSubplot:title={'center':'ra_lenght'}>,\n",
       "        <AxesSubplot:title={'center':'rstd_lenght'}>]], dtype=object)"
      ]
     },
     "execution_count": 53,
     "metadata": {},
     "output_type": "execute_result"
    },
    {
     "data": {
      "image/png": "[encoded data removed]",
      "text/plain": [
       "<Figure size 1440x720 with 6 Axes>"
      ]
     },
     "metadata": {
      "needs_background": "light"
     },
     "output_type": "display_data"
    }
   ],
   "source": [
    "df_ML.loc[df_ML['miner'] == False].select_dtypes(exclude=['boolean']).hist(figsize = (20,10))"
   ]
  },
  {
   "cell_type": "code",
   "execution_count": 54,
   "metadata": {},
   "outputs": [],
   "source": [
    "y = df_ML['miner']\n",
    "x = df_ML.drop('miner', axis = 1)"
   ]
  },
  {
   "cell_type": "code",
   "execution_count": 55,
   "metadata": {},
   "outputs": [
    {
     "data": {
      "text/plain": [
       "<bound method NDFrame.describe of 4         True\n",
       "5         True\n",
       "6         True\n",
       "7         True\n",
       "8         True\n",
       "         ...  \n",
       "41267    False\n",
       "41268    False\n",
       "41269    False\n",
       "41270    False\n",
       "41271    False\n",
       "Name: miner, Length: 41263, dtype: bool>"
      ]
     },
     "execution_count": 55,
     "metadata": {},
     "output_type": "execute_result"
    }
   ],
   "source": [
    "y.describe"
   ]
  },
  {
   "cell_type": "code",
   "execution_count": 56,
   "metadata": {},
   "outputs": [
    {
     "data": {
      "text/plain": [
       "False    41182\n",
       "True        81\n",
       "Name: miner, dtype: int64"
      ]
     },
     "execution_count": 56,
     "metadata": {},
     "output_type": "execute_result"
    }
   ],
   "source": [
    "y.value_counts()"
   ]
  },
  {
   "cell_type": "markdown",
   "metadata": {},
   "source": [
    "# ML Algorithm"
   ]
  },
  {
   "cell_type": "code",
   "execution_count": 57,
   "metadata": {},
   "outputs": [],
   "source": [
    "#Setting model\n",
    "model = svm.SVC(kernel=\"rbf\", gamma=\"scale\", class_weight='balanced')"
   ]
  },
  {
   "cell_type": "code",
   "execution_count": 58,
   "metadata": {},
   "outputs": [
    {
     "name": "stdout",
     "output_type": "stream",
     "text": [
      "Non tuned SVC --------------------------------------\n",
      "Precision:  0.65095942\n",
      "Recall:  0.9625\n"
     ]
    }
   ],
   "source": [
    "model_cv_rapport(model, \"Non tuned SVC\", x, y)"
   ]
  },
  {
   "cell_type": "code",
   "execution_count": 59,
   "metadata": {},
   "outputs": [
    {
     "name": "stdout",
     "output_type": "stream",
     "text": [
      "Neuoral Network Classfication --------------------------------------\n",
      "Precision:  0.2\n",
      "Recall:  0.0625\n"
     ]
    }
   ],
   "source": [
    "# Neuoral Network Model\n",
    "model_nn = MLPClassifier(hidden_layer_sizes=(100,100),activation='relu', solver='sgd', random_state=1, max_iter=20, batch_size='auto', verbose=True)\n",
    "model_cv_rapport(model_nn, \"Neuoral Network Classfication\", x, y)"
   ]
  },
  {
   "cell_type": "code",
   "execution_count": 60,
   "metadata": {},
   "outputs": [
    {
     "name": "stdout",
     "output_type": "stream",
     "text": [
      "Neuoral Network Classfication --------------------------------------\n",
      "Precision:  0.90666667\n",
      "Recall:  0.47205882\n"
     ]
    }
   ],
   "source": [
    "# Loigistic Regression\n",
    "model_lr=SGDClassifier(max_iter=100, tol=1e-3,eta0=0.02,loss='log',verbose=2)\n",
    "model_cv_rapport(model_lr, \"Neuoral Network Classfication\", x, y)"
   ]
  }
 ],
 "metadata": {
  "kernelspec": {
   "display_name": "Python 3",
   "language": "python",
   "name": "python3"
  },
  "language_info": {
   "codemirror_mode": {
    "name": "ipython",
    "version": 3
   },
   "file_extension": ".py",
   "mimetype": "text/x-python",
   "name": "python",
   "nbconvert_exporter": "python",
   "pygments_lexer": "ipython3",
   "version": "3.8.5"
  },
  "orig_nbformat": 4,
  "vscode": {
   "interpreter": {
    "hash": "40d3a090f54c6569ab1632332b64b2c03c39dcf918b08424e98f38b5ae0af88f"
   }
  }
 },
 "nbformat": 4,
 "nbformat_minor": 2
}
