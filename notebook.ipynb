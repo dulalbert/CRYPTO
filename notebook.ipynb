{
 "cells": [
  {
   "cell_type": "code",
   "execution_count": 1,
   "metadata": {},
   "outputs": [],
   "source": [
    "import pandas as pd\n",
    "import os\n",
    "import time\n",
    "import numpy as np\n",
    "import pandas as pd\n",
    "#from sklearnex import patch_sklearn #use intel patch before importing sklearn\n",
    "#patch_sklearn()\n",
    "from sklearn import preprocessing\n",
    "from sklearn.pipeline import Pipeline\n",
    "from sklearn.model_selection import train_test_split, cross_validate, GridSearchCV\n",
    "from sklearn import linear_model, svm, tree, ensemble, neighbors\n",
    "from sklearn.metrics import r2_score, mean_absolute_error, mean_squared_error, ConfusionMatrixDisplay\n",
    "import matplotlib.pyplot as plt\n",
    "\n",
    "from xgboost import XGBRegressor\n",
    "import lightgbm as lgbm\n",
    "\n",
    "from sklearn.neural_network import MLPClassifier\n",
    "from sklearn.linear_model import SGDClassifier\n",
    "from sklearn import  ensemble"
   ]
  },
  {
   "cell_type": "code",
   "execution_count": 2,
   "metadata": {},
   "outputs": [],
   "source": [
    "#%cd ./network_sniff/\n",
    "#%ls"
   ]
  },
  {
   "cell_type": "markdown",
   "metadata": {},
   "source": [
    "# 0) Create reporting "
   ]
  },
  {
   "cell_type": "code",
   "execution_count": 3,
   "metadata": {},
   "outputs": [],
   "source": [
    "def model_cv_rapport(model , name  : str, x : np.array, y : np.array, cv=5, precision = 8):\n",
    "    \"\"\"\n",
    "    Apply the model then cross validate and export its score \n",
    "    \"\"\"\n",
    "    #making sure data is standarized\n",
    "    pipe = Pipeline([\n",
    "        ('scale', preprocessing.StandardScaler()),\n",
    "        ('clf', model)\n",
    "    ])\n",
    "    score = cross_validate(pipe, x, y, cv=cv,\n",
    "                           scoring=[\"precision\", \"recall\", \"f1\", \"roc_auc\", \"accuracy\"],\n",
    "                           #verbose=10,\n",
    "                           n_jobs=-1)\n",
    "    print (name, \"--------------------------------------\")\n",
    "    print(\"Precision: \", round(score[\"test_precision\"].mean(), precision))\n",
    "    print(\"Recall: \", round(score[\"test_recall\"].mean(), precision))\n",
    "    print(\"F1: \", round(score[\"test_f1\"].mean(), precision))\n",
    "    print(\"ROC: \", round(score[\"test_roc_auc\"].mean(), precision))\n",
    "    print(\"Accuracy: \", round(score[\"test_accuracy\"].mean(), precision))"
   ]
  },
  {
   "cell_type": "markdown",
   "metadata": {},
   "source": [
    "# 1) Import the dataset"
   ]
  },
  {
   "cell_type": "markdown",
   "metadata": {},
   "source": [
    "As https://doi.org/10.1016/j.comcom.2021.02.016 and promizing : http://doi.acm.org/10.1145/3243734.3243858\n"
   ]
  },
  {
   "cell_type": "code",
   "execution_count": 4,
   "metadata": {},
   "outputs": [],
   "source": [
    "df_mining = pd.read_csv(os.getcwd()+'/network_sniff/traffic_minage_1811_15.csv', index_col= 0)\n",
    "df_not_mining = pd.read_csv(os.getcwd()+'/network_sniff/2911_traffic_calme.csv', index_col= 0)"
   ]
  },
  {
   "cell_type": "code",
   "execution_count": 5,
   "metadata": {},
   "outputs": [
    {
     "data": {
      "text/html": [
       "<div>\n",
       "<style scoped>\n",
       "    .dataframe tbody tr th:only-of-type {\n",
       "        vertical-align: middle;\n",
       "    }\n",
       "\n",
       "    .dataframe tbody tr th {\n",
       "        vertical-align: top;\n",
       "    }\n",
       "\n",
       "    .dataframe thead th {\n",
       "        text-align: right;\n",
       "    }\n",
       "</style>\n",
       "<table border=\"1\" class=\"dataframe\">\n",
       "  <thead>\n",
       "    <tr style=\"text-align: right;\">\n",
       "      <th></th>\n",
       "      <th>Time</th>\n",
       "      <th>Source</th>\n",
       "      <th>Protocol</th>\n",
       "      <th>Length</th>\n",
       "      <th>Info</th>\n",
       "    </tr>\n",
       "    <tr>\n",
       "      <th>Destination</th>\n",
       "      <th></th>\n",
       "      <th></th>\n",
       "      <th></th>\n",
       "      <th></th>\n",
       "      <th></th>\n",
       "    </tr>\n",
       "  </thead>\n",
       "  <tbody>\n",
       "    <tr>\n",
       "      <th>10.29.231.206</th>\n",
       "      <td>37</td>\n",
       "      <td>37</td>\n",
       "      <td>37</td>\n",
       "      <td>37</td>\n",
       "      <td>37</td>\n",
       "    </tr>\n",
       "    <tr>\n",
       "      <th>178.128.242.134</th>\n",
       "      <td>6</td>\n",
       "      <td>6</td>\n",
       "      <td>6</td>\n",
       "      <td>6</td>\n",
       "      <td>6</td>\n",
       "    </tr>\n",
       "    <tr>\n",
       "      <th>192.44.75.10</th>\n",
       "      <td>2</td>\n",
       "      <td>2</td>\n",
       "      <td>2</td>\n",
       "      <td>2</td>\n",
       "      <td>2</td>\n",
       "    </tr>\n",
       "    <tr>\n",
       "      <th>199.247.27.41</th>\n",
       "      <td>1</td>\n",
       "      <td>1</td>\n",
       "      <td>1</td>\n",
       "      <td>1</td>\n",
       "      <td>1</td>\n",
       "    </tr>\n",
       "    <tr>\n",
       "      <th>23.200.86.233</th>\n",
       "      <td>8</td>\n",
       "      <td>8</td>\n",
       "      <td>8</td>\n",
       "      <td>8</td>\n",
       "      <td>8</td>\n",
       "    </tr>\n",
       "    <tr>\n",
       "      <th>23.200.87.12</th>\n",
       "      <td>6</td>\n",
       "      <td>6</td>\n",
       "      <td>6</td>\n",
       "      <td>6</td>\n",
       "      <td>6</td>\n",
       "    </tr>\n",
       "    <tr>\n",
       "      <th>34.120.208.123</th>\n",
       "      <td>2</td>\n",
       "      <td>2</td>\n",
       "      <td>2</td>\n",
       "      <td>2</td>\n",
       "      <td>2</td>\n",
       "    </tr>\n",
       "    <tr>\n",
       "      <th>34.160.144.191</th>\n",
       "      <td>2</td>\n",
       "      <td>2</td>\n",
       "      <td>2</td>\n",
       "      <td>2</td>\n",
       "      <td>2</td>\n",
       "    </tr>\n",
       "    <tr>\n",
       "      <th>34.98.75.36</th>\n",
       "      <td>2</td>\n",
       "      <td>2</td>\n",
       "      <td>2</td>\n",
       "      <td>2</td>\n",
       "      <td>2</td>\n",
       "    </tr>\n",
       "    <tr>\n",
       "      <th>35.244.181.201</th>\n",
       "      <td>2</td>\n",
       "      <td>2</td>\n",
       "      <td>2</td>\n",
       "      <td>2</td>\n",
       "      <td>2</td>\n",
       "    </tr>\n",
       "    <tr>\n",
       "      <th>52.84.174.83</th>\n",
       "      <td>9</td>\n",
       "      <td>9</td>\n",
       "      <td>9</td>\n",
       "      <td>9</td>\n",
       "      <td>9</td>\n",
       "    </tr>\n",
       "    <tr>\n",
       "      <th>93.184.220.29</th>\n",
       "      <td>6</td>\n",
       "      <td>6</td>\n",
       "      <td>6</td>\n",
       "      <td>6</td>\n",
       "      <td>6</td>\n",
       "    </tr>\n",
       "    <tr>\n",
       "      <th>All-HSRP-routers_ea</th>\n",
       "      <td>1</td>\n",
       "      <td>1</td>\n",
       "      <td>1</td>\n",
       "      <td>1</td>\n",
       "      <td>1</td>\n",
       "    </tr>\n",
       "    <tr>\n",
       "      <th>RealtekU_4c:cc:50</th>\n",
       "      <td>1</td>\n",
       "      <td>1</td>\n",
       "      <td>1</td>\n",
       "      <td>1</td>\n",
       "      <td>1</td>\n",
       "    </tr>\n",
       "  </tbody>\n",
       "</table>\n",
       "</div>"
      ],
      "text/plain": [
       "                     Time  Source  Protocol  Length  Info\n",
       "Destination                                              \n",
       "10.29.231.206          37      37        37      37    37\n",
       "178.128.242.134         6       6         6       6     6\n",
       "192.44.75.10            2       2         2       2     2\n",
       "199.247.27.41           1       1         1       1     1\n",
       "23.200.86.233           8       8         8       8     8\n",
       "23.200.87.12            6       6         6       6     6\n",
       "34.120.208.123          2       2         2       2     2\n",
       "34.160.144.191          2       2         2       2     2\n",
       "34.98.75.36             2       2         2       2     2\n",
       "35.244.181.201          2       2         2       2     2\n",
       "52.84.174.83            9       9         9       9     9\n",
       "93.184.220.29           6       6         6       6     6\n",
       "All-HSRP-routers_ea     1       1         1       1     1\n",
       "RealtekU_4c:cc:50       1       1         1       1     1"
      ]
     },
     "execution_count": 5,
     "metadata": {},
     "output_type": "execute_result"
    }
   ],
   "source": [
    "df_mining.groupby('Destination').count()\n"
   ]
  },
  {
   "cell_type": "markdown",
   "metadata": {},
   "source": [
    "We define all traffic trom the mining dataset as comming from the miner and all the one from the other dataset as not mining\n",
    "Moreover we add the direction of the package"
   ]
  },
  {
   "cell_type": "code",
   "execution_count": 6,
   "metadata": {},
   "outputs": [],
   "source": [
    "df_mining['miner'] = True\n",
    "df_mining['outbound'] = df_mining['Source'].apply(lambda x : x == '10.29.231.206') #change ip of miner\n",
    "df_not_mining['miner'] = False\n",
    "df_not_mining['outbound'] = df_not_mining['Source'].apply(lambda x : x == '10.29.229.98')"
   ]
  },
  {
   "cell_type": "markdown",
   "metadata": {},
   "source": [
    "Compute time difference between two packages"
   ]
  },
  {
   "cell_type": "code",
   "execution_count": 7,
   "metadata": {},
   "outputs": [],
   "source": [
    "df_mining['delta'] = df_mining.Time.diff()\n",
    "df_not_mining['delta'] = df_not_mining.Time.diff()"
   ]
  },
  {
   "cell_type": "markdown",
   "metadata": {},
   "source": [
    "Compute time and packet size rolling average and std"
   ]
  },
  {
   "cell_type": "code",
   "execution_count": 8,
   "metadata": {},
   "outputs": [],
   "source": [
    "window = 4"
   ]
  },
  {
   "cell_type": "code",
   "execution_count": 9,
   "metadata": {},
   "outputs": [],
   "source": [
    "# delta\n",
    "# Rolling average\n",
    "df_mining['ra_delta'] = df_mining.delta.rolling(window=window).mean()\n",
    "df_not_mining['ra_delta'] = df_not_mining.delta.diff().rolling(window=window).mean()\n",
    "# Standard Deviation\n",
    "df_mining['rstd_delta'] = df_mining.delta.rolling(window=window).mean()\n",
    "df_not_mining['rstd_delta'] = df_not_mining.delta.diff().rolling(window=window).mean()\n",
    "\n",
    "# Lenght\n",
    "# Rolling average\n",
    "df_mining['ra_lenght'] = df_mining.Length.rolling(window=window).mean()\n",
    "df_not_mining['ra_lenght'] = df_not_mining.Length.diff().rolling(window=window).mean()\n",
    "# Standard Deviation\n",
    "df_mining['rstd_lenght'] = df_mining.Length.rolling(window=window).std()\n",
    "df_not_mining['rstd_lenght'] = df_not_mining.Length.diff().rolling(window=window).std()\n"
   ]
  },
  {
   "cell_type": "code",
   "execution_count": 10,
   "metadata": {},
   "outputs": [],
   "source": [
    "df_ML = pd.concat([df_mining, df_not_mining], ignore_index=True)\n",
    "df_ML.reset_index(inplace = True, drop = True)\n",
    "df_ML.drop(['Time', 'Source', 'Destination', 'Protocol', 'Info'], axis = 1, inplace = True)\n"
   ]
  },
  {
   "cell_type": "code",
   "execution_count": 11,
   "metadata": {},
   "outputs": [
    {
     "data": {
      "text/html": [
       "<div>\n",
       "<style scoped>\n",
       "    .dataframe tbody tr th:only-of-type {\n",
       "        vertical-align: middle;\n",
       "    }\n",
       "\n",
       "    .dataframe tbody tr th {\n",
       "        vertical-align: top;\n",
       "    }\n",
       "\n",
       "    .dataframe thead th {\n",
       "        text-align: right;\n",
       "    }\n",
       "</style>\n",
       "<table border=\"1\" class=\"dataframe\">\n",
       "  <thead>\n",
       "    <tr style=\"text-align: right;\">\n",
       "      <th></th>\n",
       "      <th>Length</th>\n",
       "      <th>delta</th>\n",
       "      <th>ra_delta</th>\n",
       "      <th>rstd_delta</th>\n",
       "      <th>ra_lenght</th>\n",
       "      <th>rstd_lenght</th>\n",
       "    </tr>\n",
       "  </thead>\n",
       "  <tbody>\n",
       "    <tr>\n",
       "      <th>count</th>\n",
       "      <td>41272.000000</td>\n",
       "      <td>4.127000e+04</td>\n",
       "      <td>4.126300e+04</td>\n",
       "      <td>4.126300e+04</td>\n",
       "      <td>41265.000000</td>\n",
       "      <td>41265.000000</td>\n",
       "    </tr>\n",
       "    <tr>\n",
       "      <th>mean</th>\n",
       "      <td>753.771613</td>\n",
       "      <td>3.151798e-02</td>\n",
       "      <td>1.453039e-03</td>\n",
       "      <td>1.453039e-03</td>\n",
       "      <td>0.168939</td>\n",
       "      <td>1332.260381</td>\n",
       "    </tr>\n",
       "    <tr>\n",
       "      <th>std</th>\n",
       "      <td>1059.517408</td>\n",
       "      <td>6.948798e-01</td>\n",
       "      <td>2.461157e-01</td>\n",
       "      <td>2.461157e-01</td>\n",
       "      <td>282.003832</td>\n",
       "      <td>1201.291351</td>\n",
       "    </tr>\n",
       "    <tr>\n",
       "      <th>min</th>\n",
       "      <td>42.000000</td>\n",
       "      <td>-6.599998e-08</td>\n",
       "      <td>-2.729894e+01</td>\n",
       "      <td>-2.729894e+01</td>\n",
       "      <td>-1134.000000</td>\n",
       "      <td>0.000000</td>\n",
       "    </tr>\n",
       "    <tr>\n",
       "      <th>25%</th>\n",
       "      <td>66.000000</td>\n",
       "      <td>1.103925e-05</td>\n",
       "      <td>-5.942175e-05</td>\n",
       "      <td>-5.942175e-05</td>\n",
       "      <td>-20.250000</td>\n",
       "      <td>175.200837</td>\n",
       "    </tr>\n",
       "    <tr>\n",
       "      <th>50%</th>\n",
       "      <td>105.000000</td>\n",
       "      <td>1.887860e-04</td>\n",
       "      <td>-4.725001e-08</td>\n",
       "      <td>-4.725001e-08</td>\n",
       "      <td>0.000000</td>\n",
       "      <td>1143.095213</td>\n",
       "    </tr>\n",
       "    <tr>\n",
       "      <th>75%</th>\n",
       "      <td>1466.000000</td>\n",
       "      <td>4.567025e-04</td>\n",
       "      <td>5.934062e-05</td>\n",
       "      <td>5.934062e-05</td>\n",
       "      <td>21.750000</td>\n",
       "      <td>2364.574098</td>\n",
       "    </tr>\n",
       "    <tr>\n",
       "      <th>max</th>\n",
       "      <td>6806.000000</td>\n",
       "      <td>1.092041e+02</td>\n",
       "      <td>2.730102e+01</td>\n",
       "      <td>2.730102e+01</td>\n",
       "      <td>1637.750000</td>\n",
       "      <td>5287.348422</td>\n",
       "    </tr>\n",
       "  </tbody>\n",
       "</table>\n",
       "</div>"
      ],
      "text/plain": [
       "             Length         delta      ra_delta    rstd_delta     ra_lenght  \\\n",
       "count  41272.000000  4.127000e+04  4.126300e+04  4.126300e+04  41265.000000   \n",
       "mean     753.771613  3.151798e-02  1.453039e-03  1.453039e-03      0.168939   \n",
       "std     1059.517408  6.948798e-01  2.461157e-01  2.461157e-01    282.003832   \n",
       "min       42.000000 -6.599998e-08 -2.729894e+01 -2.729894e+01  -1134.000000   \n",
       "25%       66.000000  1.103925e-05 -5.942175e-05 -5.942175e-05    -20.250000   \n",
       "50%      105.000000  1.887860e-04 -4.725001e-08 -4.725001e-08      0.000000   \n",
       "75%     1466.000000  4.567025e-04  5.934062e-05  5.934062e-05     21.750000   \n",
       "max     6806.000000  1.092041e+02  2.730102e+01  2.730102e+01   1637.750000   \n",
       "\n",
       "        rstd_lenght  \n",
       "count  41265.000000  \n",
       "mean    1332.260381  \n",
       "std     1201.291351  \n",
       "min        0.000000  \n",
       "25%      175.200837  \n",
       "50%     1143.095213  \n",
       "75%     2364.574098  \n",
       "max     5287.348422  "
      ]
     },
     "execution_count": 11,
     "metadata": {},
     "output_type": "execute_result"
    }
   ],
   "source": [
    "df_ML.describe()"
   ]
  },
  {
   "cell_type": "code",
   "execution_count": 12,
   "metadata": {},
   "outputs": [
    {
     "data": {
      "text/plain": [
       "Index(['Length', 'miner', 'outbound', 'delta', 'ra_delta', 'rstd_delta',\n",
       "       'ra_lenght', 'rstd_lenght'],\n",
       "      dtype='object')"
      ]
     },
     "execution_count": 12,
     "metadata": {},
     "output_type": "execute_result"
    }
   ],
   "source": [
    "df_ML.describe()\n",
    "df_ML.dropna(inplace = True)\n",
    "df_ML.columns"
   ]
  },
  {
   "cell_type": "code",
   "execution_count": 13,
   "metadata": {},
   "outputs": [
    {
     "data": {
      "text/html": [
       "<div>\n",
       "<style scoped>\n",
       "    .dataframe tbody tr th:only-of-type {\n",
       "        vertical-align: middle;\n",
       "    }\n",
       "\n",
       "    .dataframe tbody tr th {\n",
       "        vertical-align: top;\n",
       "    }\n",
       "\n",
       "    .dataframe thead th {\n",
       "        text-align: right;\n",
       "    }\n",
       "</style>\n",
       "<table border=\"1\" class=\"dataframe\">\n",
       "  <thead>\n",
       "    <tr style=\"text-align: right;\">\n",
       "      <th></th>\n",
       "      <th>Length</th>\n",
       "      <th>outbound</th>\n",
       "      <th>delta</th>\n",
       "      <th>ra_delta</th>\n",
       "      <th>rstd_delta</th>\n",
       "      <th>ra_lenght</th>\n",
       "      <th>rstd_lenght</th>\n",
       "    </tr>\n",
       "    <tr>\n",
       "      <th>miner</th>\n",
       "      <th></th>\n",
       "      <th></th>\n",
       "      <th></th>\n",
       "      <th></th>\n",
       "      <th></th>\n",
       "      <th></th>\n",
       "      <th></th>\n",
       "    </tr>\n",
       "  </thead>\n",
       "  <tbody>\n",
       "    <tr>\n",
       "      <th>False</th>\n",
       "      <td>755.204045</td>\n",
       "      <td>0.468117</td>\n",
       "      <td>0.030102</td>\n",
       "      <td>-4.894163e-08</td>\n",
       "      <td>-4.894163e-08</td>\n",
       "      <td>-0.005330</td>\n",
       "      <td>1334.872385</td>\n",
       "    </tr>\n",
       "    <tr>\n",
       "      <th>True</th>\n",
       "      <td>84.024691</td>\n",
       "      <td>0.543210</td>\n",
       "      <td>0.753654</td>\n",
       "      <td>7.402318e-01</td>\n",
       "      <td>7.402318e-01</td>\n",
       "      <td>86.472222</td>\n",
       "      <td>30.853181</td>\n",
       "    </tr>\n",
       "  </tbody>\n",
       "</table>\n",
       "</div>"
      ],
      "text/plain": [
       "           Length  outbound     delta      ra_delta    rstd_delta  ra_lenght  \\\n",
       "miner                                                                          \n",
       "False  755.204045  0.468117  0.030102 -4.894163e-08 -4.894163e-08  -0.005330   \n",
       "True    84.024691  0.543210  0.753654  7.402318e-01  7.402318e-01  86.472222   \n",
       "\n",
       "       rstd_lenght  \n",
       "miner               \n",
       "False  1334.872385  \n",
       "True     30.853181  "
      ]
     },
     "execution_count": 13,
     "metadata": {},
     "output_type": "execute_result"
    }
   ],
   "source": [
    "df_ML.groupby('miner').mean()"
   ]
  },
  {
   "cell_type": "code",
   "execution_count": 14,
   "metadata": {},
   "outputs": [
    {
     "name": "stderr",
     "output_type": "stream",
     "text": [
      "<__array_function__ internals>:5: RuntimeWarning: Converting input from bool to <class 'numpy.uint8'> for compatibility.\n"
     ]
    },
    {
     "ename": "TypeError",
     "evalue": "numpy boolean subtract, the `-` operator, is not supported, use the bitwise_xor, the `^` operator, or the logical_xor function instead.",
     "output_type": "error",
     "traceback": [
      "\u001b[0;31m---------------------------------------------------------------------------\u001b[0m",
      "\u001b[0;31mKeyError\u001b[0m                                  Traceback (most recent call last)",
      "\u001b[0;32m/opt/anaconda3/lib/python3.8/site-packages/numpy/lib/histograms.py\u001b[0m in \u001b[0;36m_unsigned_subtract\u001b[0;34m(a, b)\u001b[0m\n\u001b[1;32m    350\u001b[0m     \u001b[0;32mtry\u001b[0m\u001b[0;34m:\u001b[0m\u001b[0;34m\u001b[0m\u001b[0;34m\u001b[0m\u001b[0m\n\u001b[0;32m--> 351\u001b[0;31m         \u001b[0mdt\u001b[0m \u001b[0;34m=\u001b[0m \u001b[0msigned_to_unsigned\u001b[0m\u001b[0;34m[\u001b[0m\u001b[0mdt\u001b[0m\u001b[0;34m.\u001b[0m\u001b[0mtype\u001b[0m\u001b[0;34m]\u001b[0m\u001b[0;34m\u001b[0m\u001b[0;34m\u001b[0m\u001b[0m\n\u001b[0m\u001b[1;32m    352\u001b[0m     \u001b[0;32mexcept\u001b[0m \u001b[0mKeyError\u001b[0m\u001b[0;34m:\u001b[0m\u001b[0;34m\u001b[0m\u001b[0;34m\u001b[0m\u001b[0m\n",
      "\u001b[0;31mKeyError\u001b[0m: <class 'numpy.bool_'>",
      "\nDuring handling of the above exception, another exception occurred:\n",
      "\u001b[0;31mTypeError\u001b[0m                                 Traceback (most recent call last)",
      "\u001b[0;32m<ipython-input-14-74bf201788f4>\u001b[0m in \u001b[0;36m<module>\u001b[0;34m\u001b[0m\n\u001b[0;32m----> 1\u001b[0;31m \u001b[0mdf_ML\u001b[0m\u001b[0;34m.\u001b[0m\u001b[0mloc\u001b[0m\u001b[0;34m[\u001b[0m\u001b[0mdf_ML\u001b[0m\u001b[0;34m[\u001b[0m\u001b[0;34m'miner'\u001b[0m\u001b[0;34m]\u001b[0m \u001b[0;34m==\u001b[0m \u001b[0;32mTrue\u001b[0m\u001b[0;34m]\u001b[0m\u001b[0;34m.\u001b[0m\u001b[0mhist\u001b[0m\u001b[0;34m(\u001b[0m\u001b[0mfigsize\u001b[0m \u001b[0;34m=\u001b[0m \u001b[0;34m(\u001b[0m\u001b[0;36m20\u001b[0m\u001b[0;34m,\u001b[0m\u001b[0;36m10\u001b[0m\u001b[0;34m)\u001b[0m\u001b[0;34m)\u001b[0m\u001b[0;34m\u001b[0m\u001b[0;34m\u001b[0m\u001b[0m\n\u001b[0m",
      "\u001b[0;32m/opt/anaconda3/lib/python3.8/site-packages/pandas/plotting/_core.py\u001b[0m in \u001b[0;36mhist_frame\u001b[0;34m(data, column, by, grid, xlabelsize, xrot, ylabelsize, yrot, ax, sharex, sharey, figsize, layout, bins, backend, legend, **kwargs)\u001b[0m\n\u001b[1;32m    209\u001b[0m     \"\"\"\n\u001b[1;32m    210\u001b[0m     \u001b[0mplot_backend\u001b[0m \u001b[0;34m=\u001b[0m \u001b[0m_get_plot_backend\u001b[0m\u001b[0;34m(\u001b[0m\u001b[0mbackend\u001b[0m\u001b[0;34m)\u001b[0m\u001b[0;34m\u001b[0m\u001b[0;34m\u001b[0m\u001b[0m\n\u001b[0;32m--> 211\u001b[0;31m     return plot_backend.hist_frame(\n\u001b[0m\u001b[1;32m    212\u001b[0m         \u001b[0mdata\u001b[0m\u001b[0;34m,\u001b[0m\u001b[0;34m\u001b[0m\u001b[0;34m\u001b[0m\u001b[0m\n\u001b[1;32m    213\u001b[0m         \u001b[0mcolumn\u001b[0m\u001b[0;34m=\u001b[0m\u001b[0mcolumn\u001b[0m\u001b[0;34m,\u001b[0m\u001b[0;34m\u001b[0m\u001b[0;34m\u001b[0m\u001b[0m\n",
      "\u001b[0;32m/opt/anaconda3/lib/python3.8/site-packages/pandas/plotting/_matplotlib/hist.py\u001b[0m in \u001b[0;36mhist_frame\u001b[0;34m(data, column, by, grid, xlabelsize, xrot, ylabelsize, yrot, ax, sharex, sharey, figsize, layout, bins, legend, **kwds)\u001b[0m\n\u001b[1;32m    432\u001b[0m         \u001b[0;32mif\u001b[0m \u001b[0mlegend\u001b[0m \u001b[0;32mand\u001b[0m \u001b[0mcan_set_label\u001b[0m\u001b[0;34m:\u001b[0m\u001b[0;34m\u001b[0m\u001b[0;34m\u001b[0m\u001b[0m\n\u001b[1;32m    433\u001b[0m             \u001b[0mkwds\u001b[0m\u001b[0;34m[\u001b[0m\u001b[0;34m\"label\"\u001b[0m\u001b[0;34m]\u001b[0m \u001b[0;34m=\u001b[0m \u001b[0mcol\u001b[0m\u001b[0;34m\u001b[0m\u001b[0;34m\u001b[0m\u001b[0m\n\u001b[0;32m--> 434\u001b[0;31m         \u001b[0max\u001b[0m\u001b[0;34m.\u001b[0m\u001b[0mhist\u001b[0m\u001b[0;34m(\u001b[0m\u001b[0mdata\u001b[0m\u001b[0;34m[\u001b[0m\u001b[0mcol\u001b[0m\u001b[0;34m]\u001b[0m\u001b[0;34m.\u001b[0m\u001b[0mdropna\u001b[0m\u001b[0;34m(\u001b[0m\u001b[0;34m)\u001b[0m\u001b[0;34m.\u001b[0m\u001b[0mvalues\u001b[0m\u001b[0;34m,\u001b[0m \u001b[0mbins\u001b[0m\u001b[0;34m=\u001b[0m\u001b[0mbins\u001b[0m\u001b[0;34m,\u001b[0m \u001b[0;34m**\u001b[0m\u001b[0mkwds\u001b[0m\u001b[0;34m)\u001b[0m\u001b[0;34m\u001b[0m\u001b[0;34m\u001b[0m\u001b[0m\n\u001b[0m\u001b[1;32m    435\u001b[0m         \u001b[0max\u001b[0m\u001b[0;34m.\u001b[0m\u001b[0mset_title\u001b[0m\u001b[0;34m(\u001b[0m\u001b[0mcol\u001b[0m\u001b[0;34m)\u001b[0m\u001b[0;34m\u001b[0m\u001b[0;34m\u001b[0m\u001b[0m\n\u001b[1;32m    436\u001b[0m         \u001b[0max\u001b[0m\u001b[0;34m.\u001b[0m\u001b[0mgrid\u001b[0m\u001b[0;34m(\u001b[0m\u001b[0mgrid\u001b[0m\u001b[0;34m)\u001b[0m\u001b[0;34m\u001b[0m\u001b[0;34m\u001b[0m\u001b[0m\n",
      "\u001b[0;32m/opt/anaconda3/lib/python3.8/site-packages/matplotlib/__init__.py\u001b[0m in \u001b[0;36minner\u001b[0;34m(ax, data, *args, **kwargs)\u001b[0m\n\u001b[1;32m   1436\u001b[0m     \u001b[0;32mdef\u001b[0m \u001b[0minner\u001b[0m\u001b[0;34m(\u001b[0m\u001b[0max\u001b[0m\u001b[0;34m,\u001b[0m \u001b[0;34m*\u001b[0m\u001b[0margs\u001b[0m\u001b[0;34m,\u001b[0m \u001b[0mdata\u001b[0m\u001b[0;34m=\u001b[0m\u001b[0;32mNone\u001b[0m\u001b[0;34m,\u001b[0m \u001b[0;34m**\u001b[0m\u001b[0mkwargs\u001b[0m\u001b[0;34m)\u001b[0m\u001b[0;34m:\u001b[0m\u001b[0;34m\u001b[0m\u001b[0;34m\u001b[0m\u001b[0m\n\u001b[1;32m   1437\u001b[0m         \u001b[0;32mif\u001b[0m \u001b[0mdata\u001b[0m \u001b[0;32mis\u001b[0m \u001b[0;32mNone\u001b[0m\u001b[0;34m:\u001b[0m\u001b[0;34m\u001b[0m\u001b[0;34m\u001b[0m\u001b[0m\n\u001b[0;32m-> 1438\u001b[0;31m             \u001b[0;32mreturn\u001b[0m \u001b[0mfunc\u001b[0m\u001b[0;34m(\u001b[0m\u001b[0max\u001b[0m\u001b[0;34m,\u001b[0m \u001b[0;34m*\u001b[0m\u001b[0mmap\u001b[0m\u001b[0;34m(\u001b[0m\u001b[0msanitize_sequence\u001b[0m\u001b[0;34m,\u001b[0m \u001b[0margs\u001b[0m\u001b[0;34m)\u001b[0m\u001b[0;34m,\u001b[0m \u001b[0;34m**\u001b[0m\u001b[0mkwargs\u001b[0m\u001b[0;34m)\u001b[0m\u001b[0;34m\u001b[0m\u001b[0;34m\u001b[0m\u001b[0m\n\u001b[0m\u001b[1;32m   1439\u001b[0m \u001b[0;34m\u001b[0m\u001b[0m\n\u001b[1;32m   1440\u001b[0m         \u001b[0mbound\u001b[0m \u001b[0;34m=\u001b[0m \u001b[0mnew_sig\u001b[0m\u001b[0;34m.\u001b[0m\u001b[0mbind\u001b[0m\u001b[0;34m(\u001b[0m\u001b[0max\u001b[0m\u001b[0;34m,\u001b[0m \u001b[0;34m*\u001b[0m\u001b[0margs\u001b[0m\u001b[0;34m,\u001b[0m \u001b[0;34m**\u001b[0m\u001b[0mkwargs\u001b[0m\u001b[0;34m)\u001b[0m\u001b[0;34m\u001b[0m\u001b[0;34m\u001b[0m\u001b[0m\n",
      "\u001b[0;32m/opt/anaconda3/lib/python3.8/site-packages/matplotlib/axes/_axes.py\u001b[0m in \u001b[0;36mhist\u001b[0;34m(self, x, bins, range, density, weights, cumulative, bottom, histtype, align, orientation, rwidth, log, color, label, stacked, **kwargs)\u001b[0m\n\u001b[1;32m   6654\u001b[0m             \u001b[0;31m# this will automatically overwrite bins,\u001b[0m\u001b[0;34m\u001b[0m\u001b[0;34m\u001b[0m\u001b[0;34m\u001b[0m\u001b[0m\n\u001b[1;32m   6655\u001b[0m             \u001b[0;31m# so that each histogram uses the same bins\u001b[0m\u001b[0;34m\u001b[0m\u001b[0;34m\u001b[0m\u001b[0;34m\u001b[0m\u001b[0m\n\u001b[0;32m-> 6656\u001b[0;31m             \u001b[0mm\u001b[0m\u001b[0;34m,\u001b[0m \u001b[0mbins\u001b[0m \u001b[0;34m=\u001b[0m \u001b[0mnp\u001b[0m\u001b[0;34m.\u001b[0m\u001b[0mhistogram\u001b[0m\u001b[0;34m(\u001b[0m\u001b[0mx\u001b[0m\u001b[0;34m[\u001b[0m\u001b[0mi\u001b[0m\u001b[0;34m]\u001b[0m\u001b[0;34m,\u001b[0m \u001b[0mbins\u001b[0m\u001b[0;34m,\u001b[0m \u001b[0mweights\u001b[0m\u001b[0;34m=\u001b[0m\u001b[0mw\u001b[0m\u001b[0;34m[\u001b[0m\u001b[0mi\u001b[0m\u001b[0;34m]\u001b[0m\u001b[0;34m,\u001b[0m \u001b[0;34m**\u001b[0m\u001b[0mhist_kwargs\u001b[0m\u001b[0;34m)\u001b[0m\u001b[0;34m\u001b[0m\u001b[0;34m\u001b[0m\u001b[0m\n\u001b[0m\u001b[1;32m   6657\u001b[0m             \u001b[0mtops\u001b[0m\u001b[0;34m.\u001b[0m\u001b[0mappend\u001b[0m\u001b[0;34m(\u001b[0m\u001b[0mm\u001b[0m\u001b[0;34m)\u001b[0m\u001b[0;34m\u001b[0m\u001b[0;34m\u001b[0m\u001b[0m\n\u001b[1;32m   6658\u001b[0m         \u001b[0mtops\u001b[0m \u001b[0;34m=\u001b[0m \u001b[0mnp\u001b[0m\u001b[0;34m.\u001b[0m\u001b[0marray\u001b[0m\u001b[0;34m(\u001b[0m\u001b[0mtops\u001b[0m\u001b[0;34m,\u001b[0m \u001b[0mfloat\u001b[0m\u001b[0;34m)\u001b[0m  \u001b[0;31m# causes problems later if it's an int\u001b[0m\u001b[0;34m\u001b[0m\u001b[0;34m\u001b[0m\u001b[0m\n",
      "\u001b[0;32m<__array_function__ internals>\u001b[0m in \u001b[0;36mhistogram\u001b[0;34m(*args, **kwargs)\u001b[0m\n",
      "\u001b[0;32m/opt/anaconda3/lib/python3.8/site-packages/numpy/lib/histograms.py\u001b[0m in \u001b[0;36mhistogram\u001b[0;34m(a, bins, range, normed, weights, density)\u001b[0m\n\u001b[1;32m    820\u001b[0m \u001b[0;34m\u001b[0m\u001b[0m\n\u001b[1;32m    821\u001b[0m         \u001b[0;31m# Pre-compute histogram scaling factor\u001b[0m\u001b[0;34m\u001b[0m\u001b[0;34m\u001b[0m\u001b[0;34m\u001b[0m\u001b[0m\n\u001b[0;32m--> 822\u001b[0;31m         \u001b[0mnorm\u001b[0m \u001b[0;34m=\u001b[0m \u001b[0mn_equal_bins\u001b[0m \u001b[0;34m/\u001b[0m \u001b[0m_unsigned_subtract\u001b[0m\u001b[0;34m(\u001b[0m\u001b[0mlast_edge\u001b[0m\u001b[0;34m,\u001b[0m \u001b[0mfirst_edge\u001b[0m\u001b[0;34m)\u001b[0m\u001b[0;34m\u001b[0m\u001b[0;34m\u001b[0m\u001b[0m\n\u001b[0m\u001b[1;32m    823\u001b[0m \u001b[0;34m\u001b[0m\u001b[0m\n\u001b[1;32m    824\u001b[0m         \u001b[0;31m# We iterate over blocks here for two reasons: the first is that for\u001b[0m\u001b[0;34m\u001b[0m\u001b[0;34m\u001b[0m\u001b[0;34m\u001b[0m\u001b[0m\n",
      "\u001b[0;32m/opt/anaconda3/lib/python3.8/site-packages/numpy/lib/histograms.py\u001b[0m in \u001b[0;36m_unsigned_subtract\u001b[0;34m(a, b)\u001b[0m\n\u001b[1;32m    351\u001b[0m         \u001b[0mdt\u001b[0m \u001b[0;34m=\u001b[0m \u001b[0msigned_to_unsigned\u001b[0m\u001b[0;34m[\u001b[0m\u001b[0mdt\u001b[0m\u001b[0;34m.\u001b[0m\u001b[0mtype\u001b[0m\u001b[0;34m]\u001b[0m\u001b[0;34m\u001b[0m\u001b[0;34m\u001b[0m\u001b[0m\n\u001b[1;32m    352\u001b[0m     \u001b[0;32mexcept\u001b[0m \u001b[0mKeyError\u001b[0m\u001b[0;34m:\u001b[0m\u001b[0;34m\u001b[0m\u001b[0;34m\u001b[0m\u001b[0m\n\u001b[0;32m--> 353\u001b[0;31m         \u001b[0;32mreturn\u001b[0m \u001b[0mnp\u001b[0m\u001b[0;34m.\u001b[0m\u001b[0msubtract\u001b[0m\u001b[0;34m(\u001b[0m\u001b[0ma\u001b[0m\u001b[0;34m,\u001b[0m \u001b[0mb\u001b[0m\u001b[0;34m,\u001b[0m \u001b[0mdtype\u001b[0m\u001b[0;34m=\u001b[0m\u001b[0mdt\u001b[0m\u001b[0;34m)\u001b[0m\u001b[0;34m\u001b[0m\u001b[0;34m\u001b[0m\u001b[0m\n\u001b[0m\u001b[1;32m    354\u001b[0m     \u001b[0;32melse\u001b[0m\u001b[0;34m:\u001b[0m\u001b[0;34m\u001b[0m\u001b[0;34m\u001b[0m\u001b[0m\n\u001b[1;32m    355\u001b[0m         \u001b[0;31m# we know the inputs are integers, and we are deliberately casting\u001b[0m\u001b[0;34m\u001b[0m\u001b[0;34m\u001b[0m\u001b[0;34m\u001b[0m\u001b[0m\n",
      "\u001b[0;31mTypeError\u001b[0m: numpy boolean subtract, the `-` operator, is not supported, use the bitwise_xor, the `^` operator, or the logical_xor function instead."
     ]
    },
    {
     "data": {
      "image/png": "[encoded data removed]",
      "text/plain": [
       "<Figure size 1440x720 with 9 Axes>"
      ]
     },
     "metadata": {
      "needs_background": "light"
     },
     "output_type": "display_data"
    }
   ],
   "source": [
    "df_ML.loc[df_ML['miner'] == True].hist(figsize = (20,10))"
   ]
  },
  {
   "cell_type": "code",
   "execution_count": null,
   "metadata": {},
   "outputs": [
    {
     "data": {
      "text/plain": [
       "array([[<AxesSubplot: title={'center': 'Length'}>,\n",
       "        <AxesSubplot: title={'center': 'delta'}>],\n",
       "       [<AxesSubplot: title={'center': 'ra_delta'}>,\n",
       "        <AxesSubplot: title={'center': 'rstd_delta'}>],\n",
       "       [<AxesSubplot: title={'center': 'ra_lenght'}>,\n",
       "        <AxesSubplot: title={'center': 'rstd_lenght'}>]], dtype=object)"
      ]
     },
     "execution_count": 40,
     "metadata": {},
     "output_type": "execute_result"
    },
    {
     "data": {
      "image/png": "[encoded data removed]",
      "text/plain": [
       "<Figure size 640x480 with 6 Axes>"
      ]
     },
     "metadata": {},
     "output_type": "display_data"
    }
   ],
   "source": [
    "df_ML.loc[df_ML['miner'] == False].hist()"
   ]
  },
  {
   "cell_type": "code",
   "execution_count": null,
   "metadata": {},
   "outputs": [],
   "source": [
    "y = df_ML['miner']\n",
    "x = df_ML.drop('miner', axis = 1)"
   ]
  },
  {
   "cell_type": "code",
   "execution_count": null,
   "metadata": {},
   "outputs": [
    {
     "data": {
      "text/plain": [
       "<bound method NDFrame.describe of 4         True\n",
       "5         True\n",
       "6         True\n",
       "7         True\n",
       "8         True\n",
       "         ...  \n",
       "41267    False\n",
       "41268    False\n",
       "41269    False\n",
       "41270    False\n",
       "41271    False\n",
       "Name: miner, Length: 41263, dtype: bool>"
      ]
     },
     "execution_count": 42,
     "metadata": {},
     "output_type": "execute_result"
    }
   ],
   "source": [
    "y.describe"
   ]
  },
  {
   "cell_type": "code",
   "execution_count": null,
   "metadata": {},
   "outputs": [
    {
     "data": {
      "text/plain": [
       "False    41182\n",
       "True        81\n",
       "Name: miner, dtype: int64"
      ]
     },
     "execution_count": 43,
     "metadata": {},
     "output_type": "execute_result"
    }
   ],
   "source": [
    "y.value_counts()"
   ]
  },
  {
   "cell_type": "markdown",
   "metadata": {},
   "source": [
    "# ML Algorithm"
   ]
  },
  {
   "cell_type": "code",
   "execution_count": null,
   "metadata": {},
   "outputs": [],
   "source": [
    "#Setting model\n",
    "model = svm.SVC(kernel=\"rbf\", gamma=\"scale\", class_weight='balanced')"
   ]
  },
  {
   "cell_type": "code",
   "execution_count": null,
   "metadata": {},
   "outputs": [
    {
     "name": "stdout",
     "output_type": "stream",
     "text": [
      "Non tuned SVC --------------------------------------\n",
      "Precision:  0.65095942\n",
      "Recall:  0.9625\n",
      "F1:  0.75489397\n",
      "ROC:  0.99716338\n",
      "Accuracy:  0.99849741\n"
     ]
    }
   ],
   "source": [
    "model_cv_rapport(model, \"Non tuned SVC\", x, y)"
   ]
  },
  {
   "cell_type": "code",
   "execution_count": null,
   "metadata": {},
   "outputs": [
    {
     "name": "stdout",
     "output_type": "stream",
     "text": [
      "Iteration 1, loss = 0.26226299\n",
      "Iteration 1, loss = 0.26267669\n",
      "Iteration 1, loss = 0.26684057\n",
      "Iteration 1, loss = 0.26406712\n",
      "Iteration 1, loss = 0.26313106\n",
      "Iteration 2, loss = 0.06429925\n",
      "Iteration 2, loss = 0.06442681\n",
      "Iteration 2, loss = 0.07164566\n",
      "Iteration 2, loss = 0.06493430\n",
      "Iteration 2, loss = 0.06542921\n",
      "Iteration 3, loss = 0.03619198\n",
      "Iteration 3, loss = 0.03621746\n",
      "Iteration 3, loss = 0.03658458\n",
      "Iteration 3, loss = 0.04287917\n",
      "Iteration 3, loss = 0.03659182\n",
      "Iteration 4, loss = 0.02720586\n",
      "Iteration 4, loss = 0.02725899\n",
      "Iteration 4, loss = 0.03245116\n",
      "Iteration 4, loss = 0.02754842\n",
      "Iteration 4, loss = 0.02742078\n",
      "Iteration 5, loss = 0.02302559\n",
      "Iteration 5, loss = 0.02314975\n",
      "Iteration 5, loss = 0.02650884\n",
      "Iteration 5, loss = 0.02336771\n",
      "Iteration 5, loss = 0.02317388\n",
      "Iteration 6, loss = 0.02061112\n",
      "Iteration 6, loss = 0.02083562\n",
      "Iteration 6, loss = 0.02224143\n",
      "Iteration 6, loss = 0.02098445\n",
      "Iteration 6, loss = 0.02075580\n",
      "Iteration 7, loss = 0.01899065\n",
      "Iteration 7, loss = 0.01932829\n",
      "Iteration 7, loss = 0.01941243\n",
      "Iteration 7, loss = 0.01884140\n",
      "Iteration 7, loss = 0.01916796\n",
      "Iteration 8, loss = 0.01779146\n",
      "Iteration 8, loss = 0.01826413\n",
      "Iteration 8, loss = 0.01824449\n",
      "Iteration 8, loss = 0.01599312\n",
      "Iteration 8, loss = 0.01799548\n",
      "Iteration 9, loss = 0.01683386\n",
      "Iteration 9, loss = 0.01736365\n",
      "Iteration 9, loss = 0.01740038\n",
      "Iteration 9, loss = 0.01363860\n",
      "Iteration 9, loss = 0.01707971\n",
      "Iteration 10, loss = 0.01581657\n",
      "Iteration 10, loss = 0.01640610\n",
      "Iteration 10, loss = 0.01652984\n",
      "Iteration 10, loss = 0.01178866\n",
      "Iteration 10, loss = 0.01632733\n",
      "Iteration 11, loss = 0.01507841\n",
      "Iteration 11, loss = 0.01572806\n",
      "Iteration 11, loss = 0.01590683\n",
      "Iteration 11, loss = 0.01047135\n",
      "Iteration 11, loss = 0.01568152\n",
      "Iteration 12, loss = 0.01442453\n",
      "Iteration 12, loss = 0.01536570\n",
      "Iteration 12, loss = 0.01509864\n",
      "Iteration 12, loss = 0.01513483\n",
      "Iteration 12, loss = 0.00952543\n",
      "Iteration 13, loss = 0.01382859\n",
      "Iteration 13, loss = 0.01488110\n",
      "Iteration 13, loss = 0.01456336\n",
      "Iteration 13, loss = 0.00883255\n",
      "Iteration 13, loss = 0.01459278\n",
      "Iteration 14, loss = 0.01327245\n",
      "Iteration 14, loss = 0.01443277\n",
      "Iteration 14, loss = 0.01406869\n",
      "Iteration 14, loss = 0.00832431\n",
      "Iteration 14, loss = 0.01408778\n",
      "Iteration 15, loss = 0.01273981\n",
      "Iteration 15, loss = 0.01400853\n",
      "Iteration 15, loss = 0.01359772\n",
      "Iteration 15, loss = 0.00795229\n",
      "Iteration 15, loss = 0.01361468\n",
      "Iteration 16, loss = 0.01224543\n",
      "Iteration 16, loss = 0.01361970\n",
      "Iteration 16, loss = 0.01315332\n",
      "Iteration 16, loss = 0.00765431\n",
      "Iteration 16, loss = 0.01317277\n",
      "Iteration 17, loss = 0.01177205\n",
      "Iteration 17, loss = 0.01323871\n",
      "Iteration 17, loss = 0.01272913\n",
      "Iteration 17, loss = 0.00742183\n",
      "Iteration 17, loss = 0.01274591\n",
      "Iteration 18, loss = 0.01132303\n",
      "Iteration 18, loss = 0.01232324\n",
      "Iteration 18, loss = 0.01287699\n",
      "Iteration 18, loss = 0.00721410\n",
      "Iteration 18, loss = 0.01234315\n",
      "Iteration 19, loss = 0.01088964\n",
      "Iteration 19, loss = 0.01194208\n",
      "Iteration 19, loss = 0.01253427\n",
      "Iteration 19, loss = 0.00704651\n",
      "Iteration 19, loss = 0.01195726\n",
      "Iteration 20, loss = 0.01038703\n",
      "Iteration 20, loss = 0.01156719\n",
      "Iteration 20, loss = 0.01198522\n",
      "Iteration 20, loss = 0.00689377\n"
     ]
    },
    {
     "name": "stderr",
     "output_type": "stream",
     "text": [
      "/home/augustin/.local/lib/python3.10/site-packages/sklearn/neural_network/_multilayer_perceptron.py:702: ConvergenceWarning: Stochastic Optimizer: Maximum iterations (20) reached and the optimization hasn't converged yet.\n",
      "  warnings.warn(\n",
      "/home/augustin/.local/lib/python3.10/site-packages/sklearn/metrics/_classification.py:1334: UndefinedMetricWarning: Precision is ill-defined and being set to 0.0 due to no predicted samples. Use `zero_division` parameter to control this behavior.\n",
      "  _warn_prf(average, modifier, msg_start, len(result))\n",
      "/home/augustin/.local/lib/python3.10/site-packages/sklearn/neural_network/_multilayer_perceptron.py:702: ConvergenceWarning: Stochastic Optimizer: Maximum iterations (20) reached and the optimization hasn't converged yet.\n",
      "  warnings.warn(\n",
      "/home/augustin/.local/lib/python3.10/site-packages/sklearn/metrics/_classification.py:1334: UndefinedMetricWarning: Precision is ill-defined and being set to 0.0 due to no predicted samples. Use `zero_division` parameter to control this behavior.\n",
      "  _warn_prf(average, modifier, msg_start, len(result))\n",
      "/home/augustin/.local/lib/python3.10/site-packages/sklearn/neural_network/_multilayer_perceptron.py:702: ConvergenceWarning: Stochastic Optimizer: Maximum iterations (20) reached and the optimization hasn't converged yet.\n",
      "  warnings.warn(\n",
      "/home/augustin/.local/lib/python3.10/site-packages/sklearn/metrics/_classification.py:1334: UndefinedMetricWarning: Precision is ill-defined and being set to 0.0 due to no predicted samples. Use `zero_division` parameter to control this behavior.\n",
      "  _warn_prf(average, modifier, msg_start, len(result))\n",
      "/home/augustin/.local/lib/python3.10/site-packages/sklearn/neural_network/_multilayer_perceptron.py:702: ConvergenceWarning: Stochastic Optimizer: Maximum iterations (20) reached and the optimization hasn't converged yet.\n",
      "  warnings.warn(\n",
      "/home/augustin/.local/lib/python3.10/site-packages/sklearn/neural_network/_multilayer_perceptron.py:702: ConvergenceWarning: Stochastic Optimizer: Maximum iterations (20) reached and the optimization hasn't converged yet.\n",
      "  warnings.warn(\n"
     ]
    },
    {
     "name": "stdout",
     "output_type": "stream",
     "text": [
      "Iteration 20, loss = 0.01140938\n",
      "Neuoral Network Classfication --------------------------------------\n",
      "Precision:  0.2\n",
      "Recall:  0.0625\n",
      "F1:  0.0952381\n",
      "ROC:  0.86982084\n",
      "Accuracy:  0.99815817\n"
     ]
    },
    {
     "name": "stderr",
     "output_type": "stream",
     "text": [
      "/home/augustin/.local/lib/python3.10/site-packages/sklearn/metrics/_classification.py:1334: UndefinedMetricWarning: Precision is ill-defined and being set to 0.0 due to no predicted samples. Use `zero_division` parameter to control this behavior.\n",
      "  _warn_prf(average, modifier, msg_start, len(result))\n"
     ]
    }
   ],
   "source": [
    "# Neuoral Network Model\n",
    "model_nn = MLPClassifier(hidden_layer_sizes=(100,100),activation='relu', solver='sgd', random_state=1, max_iter=20, batch_size='auto', verbose=True)\n",
    "model_cv_rapport(model_nn, \"Neuoral Network Classfication\", x, y)"
   ]
  },
  {
   "cell_type": "code",
   "execution_count": null,
   "metadata": {},
   "outputs": [
    {
     "name": "stderr",
     "output_type": "stream",
     "text": [
      "/home/augustin/.local/lib/python3.10/site-packages/sklearn/linear_model/_stochastic_gradient.py:173: FutureWarning: The loss 'log' was deprecated in v1.1 and will be removed in version 1.3. Use `loss='log_loss'` which is equivalent.\n",
      "  warnings.warn(\n",
      "/home/augustin/.local/lib/python3.10/site-packages/sklearn/linear_model/_stochastic_gradient.py:173: FutureWarning: The loss 'log' was deprecated in v1.1 and will be removed in version 1.3. Use `loss='log_loss'` which is equivalent.\n",
      "  warnings.warn(\n",
      "/home/augustin/.local/lib/python3.10/site-packages/sklearn/linear_model/_stochastic_gradient.py:173: FutureWarning: The loss 'log' was deprecated in v1.1 and will be removed in version 1.3. Use `loss='log_loss'` which is equivalent.\n",
      "  warnings.warn(\n",
      "/home/augustin/.local/lib/python3.10/site-packages/sklearn/linear_model/_stochastic_gradient.py:173: FutureWarning: The loss 'log' was deprecated in v1.1 and will be removed in version 1.3. Use `loss='log_loss'` which is equivalent.\n",
      "  warnings.warn(\n"
     ]
    },
    {
     "name": "stdout",
     "output_type": "stream",
     "text": [
      "-- Epoch 1\n",
      "-- Epoch 1\n",
      "-- Epoch 1\n",
      "-- Epoch 1\n",
      "Norm: 25.21, NNZs: 7, Bias: -51.516976, T: 33010, Avg. loss: 0.115477\n",
      "Total training time: 0.01 seconds.\n",
      "-- Epoch 2\n",
      "Norm: 12.00, NNZs: 7, Bias: -19.266827, T: 33010, Avg. loss: 0.039183\n",
      "Total training time: 0.01 seconds.\n",
      "-- Epoch 2\n",
      "Norm: 51.71, NNZs: 7, Bias: -25.574904, T: 33011, Avg. loss: 0.174040\n",
      "Total training time: 0.01 seconds.\n",
      "-- Epoch 2\n",
      "Norm: 24.08, NNZs: 7, Bias: -42.040128, T: 33011, Avg. loss: 0.267193\n",
      "Total training time: 0.01 seconds.\n",
      "-- Epoch 2\n",
      "Norm: 9.13, NNZs: 7, Bias: -16.093342, T: 66020, Avg. loss: 0.009843\n",
      "Total training time: 0.01 seconds.\n",
      "-- Epoch 3\n",
      "Norm: 20.70, NNZs: 7, Bias: -43.192380, T: 66020, Avg. loss: 0.031921\n",
      "Total training time: 0.02 seconds.\n",
      "-- Epoch 3\n",
      "Norm: 26.25, NNZs: 7, Bias: -19.851532, T: 66022, Avg. loss: 0.029718\n",
      "Total training time: 0.01 seconds.\n",
      "-- Epoch 3\n",
      "Norm: 15.77, NNZs: 7, Bias: -38.298064, T: 66022, Avg. loss: 0.080862\n",
      "Total training time: 0.01 seconds.\n",
      "-- Epoch 3\n",
      "Norm: 24.24, NNZs: 7, Bias: -38.512642, T: 99030, Avg. loss: 0.057814\n",
      "Total training time: 0.02 seconds.\n",
      "-- Epoch 4\n",
      "Norm: 8.60, NNZs: 7, Bias: -14.167327, T: 99030, Avg. loss: 0.007769\n",
      "Total training time: 0.02 seconds.\n",
      "-- Epoch 4\n",
      "Norm: 18.31, NNZs: 7, Bias: -17.527111, T: 99033, Avg. loss: 0.009979\n",
      "Total training time: 0.02 seconds.\n",
      "-- Epoch 4\n",
      "Norm: 14.19, NNZs: 7, Bias: -35.735217, T: 99033, Avg. loss: 0.033467\n",
      "Total training time: 0.02 seconds.\n",
      "-- Epoch 4\n",
      "Norm: 20.75, NNZs: 7, Bias: -34.827893, T: 132040, Avg. loss: 0.025563\n",
      "Total training time: 0.03 seconds.\n",
      "-- Epoch 5\n",
      "Norm: 8.30, NNZs: 7, Bias: -13.060905, T: 132040, Avg. loss: 0.008092\n",
      "Total training time: 0.03 seconds.\n",
      "-- Epoch 5\n",
      "Norm: 14.89, NNZs: 7, Bias: -16.001183, T: 132044, Avg. loss: 0.011845\n",
      "Total training time: 0.03 seconds.\n",
      "-- Epoch 5\n",
      "Norm: 12.41, NNZs: 7, Bias: -33.832835, T: 132044, Avg. loss: 0.032803\n",
      "Total training time: 0.02 seconds.\n",
      "-- Epoch 5\n",
      "Norm: 18.98, NNZs: 7, Bias: -32.655925, T: 165050, Avg. loss: 0.014021\n",
      "Total training time: 0.03 seconds.\n",
      "-- Epoch 6\n",
      "Norm: 11.32, NNZs: 7, Bias: -12.694190, T: 165050, Avg. loss: 0.027487\n",
      "Total training time: 0.03 seconds.\n",
      "-- Epoch 6\n",
      "Norm: 11.90, NNZs: 7, Bias: -32.246725, T: 165055, Avg. loss: 0.026040\n",
      "Total training time: 0.03 seconds.\n",
      "-- Epoch 6\n",
      "Norm: 17.23, NNZs: 7, Bias: -14.887106, T: 165055, Avg. loss: 0.009642\n",
      "Total training time: 0.03 seconds.\n",
      "-- Epoch 6\n",
      "Norm: 18.14, NNZs: 7, Bias: -30.867544, T: 198060, Avg. loss: 0.011821\n",
      "Total training time: 0.04 seconds.\n",
      "-- Epoch 7\n",
      "Norm: 9.60, NNZs: 7, Bias: -12.378711, T: 198060, Avg. loss: 0.009462\n",
      "Total training time: 0.04 seconds.\n",
      "-- Epoch 7\n",
      "Norm: 11.47, NNZs: 7, Bias: -31.076931, T: 198066, Avg. loss: 0.020223\n",
      "Total training time: 0.03 seconds.\n",
      "-- Epoch 7\n",
      "Norm: 13.33, NNZs: 7, Bias: -13.982042, T: 198066, Avg. loss: 0.022322\n",
      "Total training time: 0.04 seconds.\n",
      "-- Epoch 7\n",
      "Norm: 11.49, NNZs: 7, Bias: -29.930814, T: 231077, Avg. loss: 0.023462Norm: 17.35, NNZs: 7, Bias: -29.209243, T: 231070, Avg. loss: 0.011489\n",
      "\n",
      "Total training time: 0.04 seconds.\n",
      "Total training time: 0.05 seconds.\n",
      "-- Epoch 8\n",
      "-- Epoch 8\n",
      "Norm: 8.62, NNZs: 7, Bias: -12.054776, T: 231070, Avg. loss: 0.006693\n",
      "Total training time: 0.04 seconds.\n",
      "-- Epoch 8\n",
      "Norm: 11.48, NNZs: 7, Bias: -13.524889, T: 231077, Avg. loss: 0.008555\n",
      "Total training time: 0.05 seconds.\n",
      "-- Epoch 8\n",
      "Norm: 11.29, NNZs: 7, Bias: -28.977106, T: 264088, Avg. loss: 0.019772\n",
      "Total training time: 0.05 seconds.\n",
      "-- Epoch 9\n",
      "Norm: 7.98, NNZs: 7, Bias: -11.794594, T: 264080, Avg. loss: 0.005914\n",
      "Total training time: 0.05 seconds.\n",
      "-- Epoch 9\n",
      "Norm: 18.33, NNZs: 7, Bias: -27.924535, T: 264080, Avg. loss: 0.011749\n",
      "Total training time: 0.05 seconds.\n",
      "-- Epoch 9\n",
      "Norm: 10.32, NNZs: 7, Bias: -13.351833, T: 264088, Avg. loss: 0.005114\n",
      "Total training time: 0.05 seconds.\n",
      "-- Epoch 9\n",
      "Norm: 11.09, NNZs: 7, Bias: -28.121199, T: 297099, Avg. loss: 0.016565\n",
      "Total training time: 0.05 seconds.\n",
      "-- Epoch 10\n",
      "Norm: 8.58, NNZs: 7, Bias: -11.502536, T: 297090, Avg. loss: 0.005684\n",
      "Total training time: 0.06 seconds.\n",
      "-- Epoch 10\n",
      "Norm: 17.13, NNZs: 7, Bias: -26.626310, T: 297090, Avg. loss: 0.019554\n",
      "Total training time: 0.06 seconds.\n",
      "-- Epoch 10\n",
      "Norm: 11.38, NNZs: 7, Bias: -12.853421, T: 297099, Avg. loss: 0.010017\n",
      "Total training time: 0.06 seconds.\n",
      "-- Epoch 10\n",
      "Norm: 10.83, NNZs: 7, Bias: -27.479044, T: 330110, Avg. loss: 0.012936\n",
      "Total training time: 0.06 seconds.\n",
      "-- Epoch 11\n",
      "Norm: 7.46, NNZs: 7, Bias: -11.287588, T: 330100, Avg. loss: 0.011558\n",
      "Total training time: 0.06 seconds.\n",
      "-- Epoch 11\n",
      "Norm: 16.18, NNZs: 7, Bias: -25.860972, T: 330100, Avg. loss: 0.009167\n",
      "Total training time: 0.07 seconds.\n",
      "-- Epoch 11\n",
      "Norm: 9.86, NNZs: 7, Bias: -12.495305, T: 330110, Avg. loss: 0.014114\n",
      "Total training time: 0.07 seconds.\n",
      "-- Epoch 11\n",
      "Norm: 10.83, NNZs: 7, Bias: -26.788457, T: 363121, Avg. loss: 0.015910\n",
      "Total training time: 0.06 seconds.\n",
      "-- Epoch 12\n",
      "Norm: 7.12, NNZs: 7, Bias: -11.147073, T: 363110, Avg. loss: 0.007364\n",
      "Total training time: 0.07 seconds.\n",
      "-- Epoch 12\n",
      "Norm: 16.32, NNZs: 7, Bias: -24.940810, T: 363110, Avg. loss: 0.017364\n",
      "Total training time: 0.07 seconds.\n",
      "-- Epoch 12\n",
      "Norm: 9.03, NNZs: 7, Bias: -12.355098, T: 363121, Avg. loss: 0.006680\n",
      "Total training time: 0.07 seconds.\n",
      "-- Epoch 12\n",
      "Norm: 10.76, NNZs: 7, Bias: -26.176116, T: 396132, Avg. loss: 0.014806\n",
      "Total training time: 0.07 seconds.\n",
      "-- Epoch 13\n",
      "Norm: 8.11, NNZs: 7, Bias: -10.963575, T: 396120, Avg. loss: 0.011504\n",
      "Total training time: 0.07 seconds.\n",
      "Convergence after 12 epochs took 0.07 seconds\n",
      "Norm: 15.56, NNZs: 7, Bias: -24.301842, T: 396120, Avg. loss: 0.009991\n",
      "Total training time: 0.08 seconds.\n",
      "-- Epoch 13\n",
      "Norm: 10.72, NNZs: 7, Bias: -25.587942, T: 429143, Avg. loss: 0.011497\n",
      "Total training time: 0.07 seconds.\n",
      "-- Epoch 14\n",
      "Norm: 9.47, NNZs: 7, Bias: -12.066565, T: 396132, Avg. loss: 0.011690\n",
      "Total training time: 0.08 seconds.\n",
      "-- Epoch 13\n",
      "Norm: 14.95, NNZs: 7, Bias: -23.834017, T: 429130, Avg. loss: 0.006182\n",
      "Total training time: 0.08 seconds.\n",
      "-- Epoch 14\n",
      "Norm: 10.56, NNZs: 7, Bias: -25.147292, T: 462154, Avg. loss: 0.011412\n",
      "Total training time: 0.08 seconds.\n",
      "-- Epoch 15\n",
      "Norm: 8.63, NNZs: 7, Bias: -11.875569, T: 429143, Avg. loss: 0.010105\n",
      "Total training time: 0.08 seconds.\n",
      "Convergence after 13 epochs took 0.08 seconds\n",
      "Norm: 14.54, NNZs: 7, Bias: -23.331551, T: 462140, Avg. loss: 0.006377\n",
      "Total training time: 0.09 seconds.\n",
      "-- Epoch 15\n",
      "Norm: 10.49, NNZs: 7, Bias: -24.660685, T: 495165, Avg. loss: 0.009834\n",
      "Total training time: 0.09 seconds.\n",
      "-- Epoch 16\n",
      "Norm: 14.71, NNZs: 7, Bias: -22.807026, T: 495150, Avg. loss: 0.009455\n",
      "Total training time: 0.10 seconds.\n",
      "-- Epoch 16\n",
      "Norm: 10.48, NNZs: 7, Bias: -24.219425, T: 528176, Avg. loss: 0.012669\n",
      "Total training time: 0.09 seconds.\n",
      "-- Epoch 17\n",
      "Norm: 14.16, NNZs: 7, Bias: -22.338040, T: 528160, Avg. loss: 0.011553\n",
      "Total training time: 0.10 seconds.\n",
      "-- Epoch 17\n",
      "Norm: 10.40, NNZs: 7, Bias: -23.823613, T: 561187, Avg. loss: 0.009598\n",
      "Total training time: 0.10 seconds.\n",
      "-- Epoch 18\n",
      "Norm: 13.75, NNZs: 7, Bias: -21.995536, T: 561170, Avg. loss: 0.006796\n",
      "Total training time: 0.11 seconds.\n",
      "-- Epoch 18\n",
      "Norm: 10.37, NNZs: 7, Bias: -23.422114, T: 594198, Avg. loss: 0.010157\n",
      "Total training time: 0.11 seconds.\n",
      "-- Epoch 19\n",
      "Norm: 13.40, NNZs: 7, Bias: -21.674870, T: 594180, Avg. loss: 0.005624\n",
      "Total training time: 0.12 seconds.\n",
      "Convergence after 18 epochs took 0.12 seconds\n",
      "Norm: 10.29, NNZs: 7, Bias: -23.067309, T: 627209, Avg. loss: 0.009319\n",
      "Total training time: 0.11 seconds.\n",
      "-- Epoch 20\n",
      "Norm: 10.29, NNZs: 7, Bias: -22.703941, T: 660220, Avg. loss: 0.010470\n",
      "Total training time: 0.12 seconds.\n",
      "Convergence after 20 epochs took 0.12 seconds\n"
     ]
    },
    {
     "name": "stderr",
     "output_type": "stream",
     "text": [
      "/home/augustin/.local/lib/python3.10/site-packages/sklearn/linear_model/_stochastic_gradient.py:173: FutureWarning: The loss 'log' was deprecated in v1.1 and will be removed in version 1.3. Use `loss='log_loss'` which is equivalent.\n",
      "  warnings.warn(\n"
     ]
    },
    {
     "name": "stdout",
     "output_type": "stream",
     "text": [
      "-- Epoch 1\n",
      "Norm: 29.62, NNZs: 7, Bias: -74.227383, T: 33010, Avg. loss: 0.718454\n",
      "Total training time: 0.01 seconds.\n",
      "-- Epoch 2\n",
      "Norm: 32.41, NNZs: 7, Bias: -65.798994, T: 66020, Avg. loss: 0.118177\n",
      "Total training time: 0.01 seconds.\n",
      "-- Epoch 3\n",
      "Norm: 25.36, NNZs: 7, Bias: -61.975229, T: 99030, Avg. loss: 0.034796\n",
      "Total training time: 0.01 seconds.\n",
      "-- Epoch 4\n",
      "Norm: 23.16, NNZs: 7, Bias: -58.846394, T: 132040, Avg. loss: 0.037964\n",
      "Total training time: 0.02 seconds.\n",
      "-- Epoch 5\n",
      "Norm: 23.84, NNZs: 7, Bias: -55.806762, T: 165050, Avg. loss: 0.058174\n",
      "Total training time: 0.03 seconds.\n",
      "-- Epoch 6\n",
      "Norm: 22.52, NNZs: 7, Bias: -53.724064, T: 198060, Avg. loss: 0.030263\n",
      "Total training time: 0.03 seconds.\n",
      "-- Epoch 7\n",
      "Norm: 22.24, NNZs: 7, Bias: -51.981023, T: 231070, Avg. loss: 0.043604\n",
      "Total training time: 0.03 seconds.\n",
      "-- Epoch 8\n",
      "Norm: 22.36, NNZs: 7, Bias: -50.459861, T: 264080, Avg. loss: 0.030881\n",
      "Total training time: 0.04 seconds.\n",
      "-- Epoch 9\n",
      "Norm: 21.53, NNZs: 7, Bias: -48.871333, T: 297090, Avg. loss: 0.035220\n",
      "Total training time: 0.04 seconds.\n",
      "-- Epoch 10\n",
      "Norm: 20.90, NNZs: 7, Bias: -47.756412, T: 330100, Avg. loss: 0.022465\n",
      "Total training time: 0.05 seconds.\n",
      "-- Epoch 11\n",
      "Norm: 20.65, NNZs: 7, Bias: -46.744112, T: 363110, Avg. loss: 0.030815\n",
      "Total training time: 0.05 seconds.\n",
      "-- Epoch 12\n",
      "Norm: 20.72, NNZs: 7, Bias: -45.769578, T: 396120, Avg. loss: 0.023245\n",
      "Total training time: 0.06 seconds.\n",
      "-- Epoch 13\n",
      "Norm: 20.26, NNZs: 7, Bias: -44.758891, T: 429130, Avg. loss: 0.027858\n",
      "Total training time: 0.06 seconds.\n",
      "-- Epoch 14\n",
      "Norm: 19.83, NNZs: 7, Bias: -43.999222, T: 462140, Avg. loss: 0.017370\n",
      "Total training time: 0.07 seconds.\n",
      "-- Epoch 15\n",
      "Norm: 19.49, NNZs: 7, Bias: -43.312584, T: 495150, Avg. loss: 0.017600\n",
      "Total training time: 0.07 seconds.\n",
      "-- Epoch 16\n",
      "Norm: 19.41, NNZs: 7, Bias: -42.634377, T: 528160, Avg. loss: 0.022197\n",
      "Total training time: 0.08 seconds.\n",
      "-- Epoch 17\n",
      "Norm: 19.18, NNZs: 7, Bias: -41.942619, T: 561170, Avg. loss: 0.019285\n",
      "Total training time: 0.08 seconds.\n",
      "-- Epoch 18\n",
      "Norm: 19.17, NNZs: 7, Bias: -41.295954, T: 594180, Avg. loss: 0.021948\n",
      "Total training time: 0.09 seconds.\n",
      "-- Epoch 19\n",
      "Norm: 18.89, NNZs: 7, Bias: -40.737787, T: 627190, Avg. loss: 0.016426\n",
      "Total training time: 0.09 seconds.\n",
      "Convergence after 19 epochs took 0.09 seconds\n",
      "Neuoral Network Classfication --------------------------------------\n",
      "Precision:  1.0\n",
      "Recall:  0.44705882\n",
      "F1:  0.59057328\n",
      "ROC:  0.91710855\n",
      "Accuracy:  0.99890944\n"
     ]
    }
   ],
   "source": [
    "# Loigistic Regression\n",
    "model_lr=SGDClassifier(max_iter=100, tol=1e-3,eta0=0.02,loss='log',verbose=2)\n",
    "model_cv_rapport(model_lr, \"Neuoral Network Classfication\", x, y)"
   ]
  }
 ],
 "metadata": {
  "kernelspec": {
   "display_name": "Python 3",
   "language": "python",
   "name": "python3"
  },
  "language_info": {
   "codemirror_mode": {
    "name": "ipython",
    "version": 3
   },
   "file_extension": ".py",
   "mimetype": "text/x-python",
   "name": "python",
   "nbconvert_exporter": "python",
   "pygments_lexer": "ipython3",
   "version": "3.8.5"
  },
  "orig_nbformat": 4,
  "vscode": {
   "interpreter": {
    "hash": "40d3a090f54c6569ab1632332b64b2c03c39dcf918b08424e98f38b5ae0af88f"
   }
  }
 },
 "nbformat": 4,
 "nbformat_minor": 2
}
