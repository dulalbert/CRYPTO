{
 "cells": [
  {
   "cell_type": "code",
   "execution_count": 27,
   "metadata": {},
   "outputs": [],
   "source": [
    "import pandas as pd\n",
    "import os\n",
    "import time\n",
    "import numpy as np\n",
    "import pandas as pd\n",
    "#from sklearnex import patch_sklearn #use intel patch before importing sklearn\n",
    "#patch_sklearn()\n",
    "from sklearn import preprocessing\n",
    "from sklearn.pipeline import Pipeline\n",
    "from sklearn.model_selection import train_test_split, cross_validate, GridSearchCV\n",
    "from sklearn import linear_model, svm, tree, ensemble, neighbors\n",
    "from sklearn.metrics import r2_score, mean_absolute_error, mean_squared_error, ConfusionMatrixDisplay\n",
    "import matplotlib.pyplot as plt\n",
    "\n",
    "from xgboost import XGBRegressor\n",
    "import lightgbm as lgbm\n",
    "\n",
    "from sklearn.neural_network import MLPClassifier"
   ]
  },
  {
   "cell_type": "code",
   "execution_count": 7,
   "metadata": {},
   "outputs": [],
   "source": [
    "#%cd ./network_sniff/\n",
    "#%ls"
   ]
  },
  {
   "cell_type": "markdown",
   "metadata": {},
   "source": [
    "# 0) Create reporting "
   ]
  },
  {
   "cell_type": "code",
   "execution_count": 8,
   "metadata": {},
   "outputs": [],
   "source": [
    "def model_cv_rapport(model , name  : str, x : np.array, y : np.array, cv=5, precision = 8):\n",
    "    \"\"\"\n",
    "    Apply the model then cross validate and export its score \n",
    "    \"\"\"\n",
    "    #making sure data is standarized\n",
    "    pipe = Pipeline([\n",
    "        ('scale', preprocessing.StandardScaler()),\n",
    "        ('clf', model)\n",
    "    ])\n",
    "    score = cross_validate(pipe, x, y, cv=cv,\n",
    "                           scoring=[\"precision\", \"recall\", \"f1\", \"roc_auc\", \"accuracy\"],\n",
    "                           verbose=10,\n",
    "                           n_jobs=-1)\n",
    "    print (name, \"--------------------------------------\")\n",
    "    print(\"Precision: \", round(score[\"test_precision\"].mean(), precision))\n",
    "    print(\"Recall: \", round(score[\"test_recall\"].mean(), precision))\n",
    "    print(\"F1: \", round(score[\"test_f1\"].mean(), precision))\n",
    "    print(\"ROC: \", round(score[\"test_roc_auc\"].mean(), precision))\n",
    "    print(\"Accuracy: \", round(score[\"test_accuracy\"].mean(), precision))"
   ]
  },
  {
   "cell_type": "markdown",
   "metadata": {},
   "source": [
    "# 1) Import the dataset"
   ]
  },
  {
   "cell_type": "markdown",
   "metadata": {},
   "source": [
    "As https://doi.org/10.1016/j.comcom.2021.02.016 and promizing : http://doi.acm.org/10.1145/3243734.3243858\n"
   ]
  },
  {
   "cell_type": "code",
   "execution_count": 9,
   "metadata": {},
   "outputs": [],
   "source": [
    "df_mining = pd.read_csv(\"./network_sniff/traffic_minage_1811_15.csv\", index_col= 0)\n",
    "df_not_mining = pd.read_csv(\"./network_sniff/2911_traffic_calme.csv\", index_col= 0)"
   ]
  },
  {
   "cell_type": "code",
   "execution_count": 10,
   "metadata": {},
   "outputs": [
    {
     "data": {
      "text/html": [
       "<div>\n",
       "<style scoped>\n",
       "    .dataframe tbody tr th:only-of-type {\n",
       "        vertical-align: middle;\n",
       "    }\n",
       "\n",
       "    .dataframe tbody tr th {\n",
       "        vertical-align: top;\n",
       "    }\n",
       "\n",
       "    .dataframe thead th {\n",
       "        text-align: right;\n",
       "    }\n",
       "</style>\n",
       "<table border=\"1\" class=\"dataframe\">\n",
       "  <thead>\n",
       "    <tr style=\"text-align: right;\">\n",
       "      <th></th>\n",
       "      <th>Time</th>\n",
       "      <th>Source</th>\n",
       "      <th>Protocol</th>\n",
       "      <th>Length</th>\n",
       "      <th>Info</th>\n",
       "    </tr>\n",
       "    <tr>\n",
       "      <th>Destination</th>\n",
       "      <th></th>\n",
       "      <th></th>\n",
       "      <th></th>\n",
       "      <th></th>\n",
       "      <th></th>\n",
       "    </tr>\n",
       "  </thead>\n",
       "  <tbody>\n",
       "    <tr>\n",
       "      <th>10.29.231.206</th>\n",
       "      <td>37</td>\n",
       "      <td>37</td>\n",
       "      <td>37</td>\n",
       "      <td>37</td>\n",
       "      <td>37</td>\n",
       "    </tr>\n",
       "    <tr>\n",
       "      <th>178.128.242.134</th>\n",
       "      <td>6</td>\n",
       "      <td>6</td>\n",
       "      <td>6</td>\n",
       "      <td>6</td>\n",
       "      <td>6</td>\n",
       "    </tr>\n",
       "    <tr>\n",
       "      <th>192.44.75.10</th>\n",
       "      <td>2</td>\n",
       "      <td>2</td>\n",
       "      <td>2</td>\n",
       "      <td>2</td>\n",
       "      <td>2</td>\n",
       "    </tr>\n",
       "    <tr>\n",
       "      <th>199.247.27.41</th>\n",
       "      <td>1</td>\n",
       "      <td>1</td>\n",
       "      <td>1</td>\n",
       "      <td>1</td>\n",
       "      <td>1</td>\n",
       "    </tr>\n",
       "    <tr>\n",
       "      <th>23.200.86.233</th>\n",
       "      <td>8</td>\n",
       "      <td>8</td>\n",
       "      <td>8</td>\n",
       "      <td>8</td>\n",
       "      <td>8</td>\n",
       "    </tr>\n",
       "    <tr>\n",
       "      <th>23.200.87.12</th>\n",
       "      <td>6</td>\n",
       "      <td>6</td>\n",
       "      <td>6</td>\n",
       "      <td>6</td>\n",
       "      <td>6</td>\n",
       "    </tr>\n",
       "    <tr>\n",
       "      <th>34.120.208.123</th>\n",
       "      <td>2</td>\n",
       "      <td>2</td>\n",
       "      <td>2</td>\n",
       "      <td>2</td>\n",
       "      <td>2</td>\n",
       "    </tr>\n",
       "    <tr>\n",
       "      <th>34.160.144.191</th>\n",
       "      <td>2</td>\n",
       "      <td>2</td>\n",
       "      <td>2</td>\n",
       "      <td>2</td>\n",
       "      <td>2</td>\n",
       "    </tr>\n",
       "    <tr>\n",
       "      <th>34.98.75.36</th>\n",
       "      <td>2</td>\n",
       "      <td>2</td>\n",
       "      <td>2</td>\n",
       "      <td>2</td>\n",
       "      <td>2</td>\n",
       "    </tr>\n",
       "    <tr>\n",
       "      <th>35.244.181.201</th>\n",
       "      <td>2</td>\n",
       "      <td>2</td>\n",
       "      <td>2</td>\n",
       "      <td>2</td>\n",
       "      <td>2</td>\n",
       "    </tr>\n",
       "    <tr>\n",
       "      <th>52.84.174.83</th>\n",
       "      <td>9</td>\n",
       "      <td>9</td>\n",
       "      <td>9</td>\n",
       "      <td>9</td>\n",
       "      <td>9</td>\n",
       "    </tr>\n",
       "    <tr>\n",
       "      <th>93.184.220.29</th>\n",
       "      <td>6</td>\n",
       "      <td>6</td>\n",
       "      <td>6</td>\n",
       "      <td>6</td>\n",
       "      <td>6</td>\n",
       "    </tr>\n",
       "    <tr>\n",
       "      <th>All-HSRP-routers_ea</th>\n",
       "      <td>1</td>\n",
       "      <td>1</td>\n",
       "      <td>1</td>\n",
       "      <td>1</td>\n",
       "      <td>1</td>\n",
       "    </tr>\n",
       "    <tr>\n",
       "      <th>RealtekU_4c:cc:50</th>\n",
       "      <td>1</td>\n",
       "      <td>1</td>\n",
       "      <td>1</td>\n",
       "      <td>1</td>\n",
       "      <td>1</td>\n",
       "    </tr>\n",
       "  </tbody>\n",
       "</table>\n",
       "</div>"
      ],
      "text/plain": [
       "                     Time  Source  Protocol  Length  Info\n",
       "Destination                                              \n",
       "10.29.231.206          37      37        37      37    37\n",
       "178.128.242.134         6       6         6       6     6\n",
       "192.44.75.10            2       2         2       2     2\n",
       "199.247.27.41           1       1         1       1     1\n",
       "23.200.86.233           8       8         8       8     8\n",
       "23.200.87.12            6       6         6       6     6\n",
       "34.120.208.123          2       2         2       2     2\n",
       "34.160.144.191          2       2         2       2     2\n",
       "34.98.75.36             2       2         2       2     2\n",
       "35.244.181.201          2       2         2       2     2\n",
       "52.84.174.83            9       9         9       9     9\n",
       "93.184.220.29           6       6         6       6     6\n",
       "All-HSRP-routers_ea     1       1         1       1     1\n",
       "RealtekU_4c:cc:50       1       1         1       1     1"
      ]
     },
     "execution_count": 10,
     "metadata": {},
     "output_type": "execute_result"
    }
   ],
   "source": [
    "df_mining.groupby('Destination').count()\n"
   ]
  },
  {
   "cell_type": "markdown",
   "metadata": {},
   "source": [
    "We define all traffic trom the mining dataset as comming from the miner and all the one from the other dataset as not mining"
   ]
  },
  {
   "cell_type": "code",
   "execution_count": 11,
   "metadata": {},
   "outputs": [],
   "source": [
    "df_mining['miner'] = True\n",
    "df_not_mining['miner'] = False"
   ]
  },
  {
   "cell_type": "markdown",
   "metadata": {},
   "source": [
    "Compute time difference between two packages"
   ]
  },
  {
   "cell_type": "code",
   "execution_count": 12,
   "metadata": {},
   "outputs": [],
   "source": [
    "df_mining['delta'] = df_mining.Time.diff()\n",
    "df_not_mining['delta'] = df_not_mining.Time.diff()"
   ]
  },
  {
   "cell_type": "code",
   "execution_count": 13,
   "metadata": {},
   "outputs": [],
   "source": [
    "df_ML = pd.concat([df_mining, df_not_mining])\n",
    "df_ML.reset_index(inplace = True)\n",
    "df_ML.drop(['Time', 'Source', 'No.', 'Destination', 'Protocol', 'Info'], axis = 1, inplace = True)"
   ]
  },
  {
   "cell_type": "code",
   "execution_count": 14,
   "metadata": {},
   "outputs": [
    {
     "data": {
      "text/plain": [
       "Index(['Length', 'miner', 'delta'], dtype='object')"
      ]
     },
     "execution_count": 14,
     "metadata": {},
     "output_type": "execute_result"
    }
   ],
   "source": [
    "df_ML.describe()\n",
    "df_ML.dropna(inplace = True)\n",
    "df_ML.columns"
   ]
  },
  {
   "cell_type": "code",
   "execution_count": 15,
   "metadata": {},
   "outputs": [
    {
     "data": {
      "text/html": [
       "<div>\n",
       "<style scoped>\n",
       "    .dataframe tbody tr th:only-of-type {\n",
       "        vertical-align: middle;\n",
       "    }\n",
       "\n",
       "    .dataframe tbody tr th {\n",
       "        vertical-align: top;\n",
       "    }\n",
       "\n",
       "    .dataframe thead th {\n",
       "        text-align: right;\n",
       "    }\n",
       "</style>\n",
       "<table border=\"1\" class=\"dataframe\">\n",
       "  <thead>\n",
       "    <tr style=\"text-align: right;\">\n",
       "      <th></th>\n",
       "      <th>Length</th>\n",
       "      <th>delta</th>\n",
       "    </tr>\n",
       "    <tr>\n",
       "      <th>miner</th>\n",
       "      <th></th>\n",
       "      <th></th>\n",
       "    </tr>\n",
       "  </thead>\n",
       "  <tbody>\n",
       "    <tr>\n",
       "      <th>False</th>\n",
       "      <td>755.159375</td>\n",
       "      <td>0.030100</td>\n",
       "    </tr>\n",
       "    <tr>\n",
       "      <th>True</th>\n",
       "      <td>89.083333</td>\n",
       "      <td>0.726751</td>\n",
       "    </tr>\n",
       "  </tbody>\n",
       "</table>\n",
       "</div>"
      ],
      "text/plain": [
       "           Length     delta\n",
       "miner                      \n",
       "False  755.159375  0.030100\n",
       "True    89.083333  0.726751"
      ]
     },
     "execution_count": 15,
     "metadata": {},
     "output_type": "execute_result"
    }
   ],
   "source": [
    "df_ML.groupby('miner').mean()"
   ]
  },
  {
   "cell_type": "code",
   "execution_count": 16,
   "metadata": {},
   "outputs": [
    {
     "data": {
      "text/plain": [
       "array([[<AxesSubplot: title={'center': 'Length'}>,\n",
       "        <AxesSubplot: title={'center': 'delta'}>]], dtype=object)"
      ]
     },
     "execution_count": 16,
     "metadata": {},
     "output_type": "execute_result"
    },
    {
     "data": {
      "image/png": "[encoded data removed]",
      "text/plain": [
       "<Figure size 640x480 with 2 Axes>"
      ]
     },
     "metadata": {},
     "output_type": "display_data"
    }
   ],
   "source": [
    "df_ML.loc[df_ML['miner'] == True].hist()"
   ]
  },
  {
   "cell_type": "code",
   "execution_count": 17,
   "metadata": {},
   "outputs": [
    {
     "data": {
      "text/plain": [
       "array([[<AxesSubplot: title={'center': 'Length'}>,\n",
       "        <AxesSubplot: title={'center': 'delta'}>]], dtype=object)"
      ]
     },
     "execution_count": 17,
     "metadata": {},
     "output_type": "execute_result"
    },
    {
     "data": {
      "image/png": "[encoded data removed]",
      "text/plain": [
       "<Figure size 640x480 with 2 Axes>"
      ]
     },
     "metadata": {},
     "output_type": "display_data"
    }
   ],
   "source": [
    "df_ML.loc[df_ML['miner'] == False].hist()"
   ]
  },
  {
   "cell_type": "code",
   "execution_count": 18,
   "metadata": {},
   "outputs": [],
   "source": [
    "y = df_ML['miner']\n",
    "x = df_ML.drop('miner', axis = 1)"
   ]
  },
  {
   "cell_type": "code",
   "execution_count": 19,
   "metadata": {},
   "outputs": [
    {
     "data": {
      "text/plain": [
       "<bound method NDFrame.describe of 1         True\n",
       "2         True\n",
       "3         True\n",
       "4         True\n",
       "5         True\n",
       "         ...  \n",
       "41267    False\n",
       "41268    False\n",
       "41269    False\n",
       "41270    False\n",
       "41271    False\n",
       "Name: miner, Length: 41270, dtype: bool>"
      ]
     },
     "execution_count": 19,
     "metadata": {},
     "output_type": "execute_result"
    }
   ],
   "source": [
    "y.describe"
   ]
  },
  {
   "cell_type": "code",
   "execution_count": 20,
   "metadata": {},
   "outputs": [
    {
     "data": {
      "text/plain": [
       "False    41186\n",
       "True        84\n",
       "Name: miner, dtype: int64"
      ]
     },
     "execution_count": 20,
     "metadata": {},
     "output_type": "execute_result"
    }
   ],
   "source": [
    "y.value_counts()"
   ]
  },
  {
   "cell_type": "markdown",
   "metadata": {},
   "source": [
    "# ML Algorithm"
   ]
  },
  {
   "cell_type": "code",
   "execution_count": 25,
   "metadata": {},
   "outputs": [],
   "source": [
    "#Setting model\n",
    "model = svm.SVC(kernel=\"rbf\", gamma=\"scale\", class_weight='balanced')"
   ]
  },
  {
   "cell_type": "code",
   "execution_count": 26,
   "metadata": {},
   "outputs": [
    {
     "name": "stderr",
     "output_type": "stream",
     "text": [
      "[Parallel(n_jobs=-1)]: Using backend LokyBackend with 16 concurrent workers.\n"
     ]
    },
    {
     "name": "stdout",
     "output_type": "stream",
     "text": [
      "[CV] START .....................................................................\n",
      "[CV] START .....................................................................\n",
      "[CV] START .....................................................................[CV] START .....................................................................\n",
      "\n",
      "[CV] START .....................................................................\n",
      "[CV] END  accuracy: (test=0.453) f1: (test=0.006) precision: (test=0.003) recall: (test=0.765) roc_auc: (test=0.683) total time=  23.8s\n",
      "[CV] END  accuracy: (test=0.366) f1: (test=0.006) precision: (test=0.003) recall: (test=0.938) roc_auc: (test=0.690) total time=  27.5s\n"
     ]
    },
    {
     "name": "stderr",
     "output_type": "stream",
     "text": [
      "[Parallel(n_jobs=-1)]: Done   2 out of   5 | elapsed:   28.0s remaining:   42.0s\n"
     ]
    },
    {
     "name": "stdout",
     "output_type": "stream",
     "text": [
      "[CV] END  accuracy: (test=0.370) f1: (test=0.006) precision: (test=0.003) recall: (test=1.000) roc_auc: (test=0.826) total time=  28.4s\n",
      "[CV] END  accuracy: (test=0.514) f1: (test=0.008) precision: (test=0.004) recall: (test=0.941) roc_auc: (test=0.807) total time=  28.5s\n",
      "[CV] END  accuracy: (test=0.440) f1: (test=0.007) precision: (test=0.003) recall: (test=0.941) roc_auc: (test=0.842) total time=  28.5s\n",
      "Non tuned SVC --------------------------------------\n",
      "Precision:  0.00328183\n",
      "Recall:  0.91691176\n",
      "F1:  0.00653994\n",
      "ROC:  0.76969121\n",
      "Accuracy:  0.42842258\n"
     ]
    },
    {
     "name": "stderr",
     "output_type": "stream",
     "text": [
      "[Parallel(n_jobs=-1)]: Done   3 out of   5 | elapsed:   28.9s remaining:   19.2s\n",
      "[Parallel(n_jobs=-1)]: Done   5 out of   5 | elapsed:   29.0s remaining:    0.0s\n",
      "[Parallel(n_jobs=-1)]: Done   5 out of   5 | elapsed:   29.0s finished\n"
     ]
    }
   ],
   "source": [
    "model_cv_rapport(model, \"Non tuned SVC\", x, y)"
   ]
  },
  {
   "cell_type": "code",
   "execution_count": 40,
   "metadata": {},
   "outputs": [],
   "source": [
    "# Set Neuoral Network Model\n",
    "model_nn = MLPClassifier(hidden_layer_sizes=(100,100),activation='relu', solver='sgd', random_state=1, max_iter=20, batch_size='auto', verbose=True)"
   ]
  },
  {
   "cell_type": "code",
   "execution_count": 41,
   "metadata": {},
   "outputs": [
    {
     "name": "stderr",
     "output_type": "stream",
     "text": [
      "[Parallel(n_jobs=-1)]: Using backend LokyBackend with 16 concurrent workers.\n"
     ]
    },
    {
     "name": "stdout",
     "output_type": "stream",
     "text": [
      "[CV] START .....................................................................\n",
      "[CV] START .....................................................................\n",
      "[CV] START .....................................................................\n",
      "[CV] START .....................................................................\n",
      "[CV] START .....................................................................\n",
      "Iteration 1, loss = 0.31142887\n",
      "Iteration 1, loss = 0.31121727\n",
      "Iteration 1, loss = 0.31134514\n",
      "Iteration 1, loss = 0.31132045\n",
      "Iteration 1, loss = 0.31117132\n",
      "Iteration 2, loss = 0.07062517\n",
      "Iteration 2, loss = 0.07035629\n",
      "Iteration 2, loss = 0.07193491\n",
      "Iteration 2, loss = 0.07059260\n",
      "Iteration 2, loss = 0.07055440\n",
      "Iteration 3, loss = 0.03526578\n",
      "Iteration 3, loss = 0.03710670\n",
      "Iteration 3, loss = 0.03541266\n",
      "Iteration 3, loss = 0.03541394\n",
      "Iteration 3, loss = 0.03544504\n",
      "Iteration 4, loss = 0.02715530\n",
      "Iteration 4, loss = 0.02536380\n",
      "Iteration 4, loss = 0.02549740\n",
      "Iteration 4, loss = 0.02550652\n",
      "Iteration 4, loss = 0.02549975\n",
      "Iteration 5, loss = 0.02119147\n",
      "Iteration 5, loss = 0.02284258\n",
      "Iteration 5, loss = 0.02131250\n",
      "Iteration 5, loss = 0.02132905\n",
      "Iteration 5, loss = 0.02133005\n",
      "Iteration 6, loss = 0.01903874\n",
      "Iteration 6, loss = 0.01913915\n",
      "Iteration 6, loss = 0.02050390\n",
      "Iteration 6, loss = 0.01917272\n",
      "Iteration 6, loss = 0.01917530\n",
      "Iteration 7, loss = 0.01777672\n",
      "Iteration 7, loss = 0.01785835\n",
      "Iteration 7, loss = 0.01901944\n",
      "Iteration 7, loss = 0.01790885\n",
      "Iteration 7, loss = 0.01791060\n",
      "Iteration 8, loss = 0.01697301\n",
      "Iteration 8, loss = 0.01703783\n",
      "Iteration 8, loss = 0.01798994\n",
      "Iteration 8, loss = 0.01710380\n",
      "Iteration 8, loss = 0.01710420\n",
      "Iteration 9, loss = 0.01643235\n",
      "Iteration 9, loss = 0.01647710\n",
      "Iteration 9, loss = 0.01722960\n",
      "Iteration 9, loss = 0.01655962\n",
      "Iteration 9, loss = 0.01656103\n",
      "Iteration 10, loss = 0.01604829\n",
      "Iteration 10, loss = 0.01607239\n",
      "Iteration 10, loss = 0.01663962\n",
      "Iteration 10, loss = 0.01617338\n",
      "Iteration 10, loss = 0.01617492\n",
      "Iteration 11, loss = 0.01575913\n",
      "Iteration 11, loss = 0.01576494\n",
      "Iteration 11, loss = 0.01615065\n",
      "Iteration 11, loss = 0.01588489\n",
      "Iteration 11, loss = 0.01588432\n",
      "Iteration 12, loss = 0.01553777\n",
      "Iteration 12, loss = 0.01552542\n",
      "Iteration 12, loss = 0.01574527\n",
      "Iteration 12, loss = 0.01566158\n",
      "Iteration 12, loss = 0.01566400\n",
      "Iteration 13, loss = 0.01536171\n",
      "Iteration 13, loss = 0.01533058\n",
      "Iteration 13, loss = 0.01540000\n",
      "Iteration 13, loss = 0.01548399\n",
      "Iteration 13, loss = 0.01548784\n",
      "Iteration 14, loss = 0.01521781\n",
      "Iteration 14, loss = 0.01516847\n",
      "Iteration 14, loss = 0.01510710\n",
      "Iteration 14, loss = 0.01533858\n",
      "Iteration 14, loss = 0.01534457\n",
      "Iteration 15, loss = 0.01509727\n",
      "Iteration 15, loss = 0.01503227\n",
      "Iteration 15, loss = 0.01485192\n",
      "Iteration 15, loss = 0.01521642\n",
      "Iteration 15, loss = 0.01522519\n",
      "Iteration 16, loss = 0.01499088\n",
      "Iteration 16, loss = 0.01490828\n",
      "Iteration 16, loss = 0.01462562\n",
      "Iteration 16, loss = 0.01510829\n",
      "Iteration 16, loss = 0.01511846\n",
      "Iteration 17, loss = 0.01490038\n",
      "Iteration 17, loss = 0.01480268\n",
      "Iteration 17, loss = 0.01443847\n",
      "Iteration 17, loss = 0.01501639\n",
      "Iteration 17, loss = 0.01502954\n",
      "Iteration 18, loss = 0.01481742\n",
      "Iteration 18, loss = 0.01470440\n",
      "Iteration 18, loss = 0.01426656\n",
      "Iteration 18, loss = 0.01493213\n",
      "Iteration 18, loss = 0.01494751\n",
      "Iteration 19, loss = 0.01474216\n",
      "Iteration 19, loss = 0.01461496\n",
      "Iteration 19, loss = 0.01412707\n",
      "Iteration 19, loss = 0.01485547\n",
      "Iteration 19, loss = 0.01487349\n",
      "Iteration 20, loss = 0.01467327\n",
      "Iteration 20, loss = 0.01453140\n",
      "[CV] END  accuracy: (test=0.998) f1: (test=0.000) precision: (test=0.000) recall: (test=0.000) roc_auc: (test=0.602) total time=   5.3s\n",
      "[CV] END  accuracy: (test=0.998) f1: (test=0.000) precision: (test=0.000) recall: (test=0.000) roc_auc: (test=0.468) total time=   5.4s\n"
     ]
    },
    {
     "name": "stderr",
     "output_type": "stream",
     "text": [
      "/home/augustin/.local/lib/python3.10/site-packages/sklearn/neural_network/_multilayer_perceptron.py:702: ConvergenceWarning: Stochastic Optimizer: Maximum iterations (20) reached and the optimization hasn't converged yet.\n",
      "  warnings.warn(\n",
      "/home/augustin/.local/lib/python3.10/site-packages/sklearn/metrics/_classification.py:1334: UndefinedMetricWarning: Precision is ill-defined and being set to 0.0 due to no predicted samples. Use `zero_division` parameter to control this behavior.\n",
      "  _warn_prf(average, modifier, msg_start, len(result))\n",
      "/home/augustin/.local/lib/python3.10/site-packages/sklearn/neural_network/_multilayer_perceptron.py:702: ConvergenceWarning: Stochastic Optimizer: Maximum iterations (20) reached and the optimization hasn't converged yet.\n",
      "  warnings.warn(\n",
      "/home/augustin/.local/lib/python3.10/site-packages/sklearn/metrics/_classification.py:1334: UndefinedMetricWarning: Precision is ill-defined and being set to 0.0 due to no predicted samples. Use `zero_division` parameter to control this behavior.\n",
      "  _warn_prf(average, modifier, msg_start, len(result))\n",
      "[Parallel(n_jobs=-1)]: Done   2 out of   5 | elapsed:    5.4s remaining:    8.1s\n",
      "/home/augustin/.local/lib/python3.10/site-packages/sklearn/neural_network/_multilayer_perceptron.py:702: ConvergenceWarning: Stochastic Optimizer: Maximum iterations (20) reached and the optimization hasn't converged yet.\n",
      "  warnings.warn(\n",
      "/home/augustin/.local/lib/python3.10/site-packages/sklearn/metrics/_classification.py:1334: UndefinedMetricWarning: Precision is ill-defined and being set to 0.0 due to no predicted samples. Use `zero_division` parameter to control this behavior.\n",
      "  _warn_prf(average, modifier, msg_start, len(result))\n",
      "/home/augustin/.local/lib/python3.10/site-packages/sklearn/neural_network/_multilayer_perceptron.py:702: ConvergenceWarning: Stochastic Optimizer: Maximum iterations (20) reached and the optimization hasn't converged yet.\n",
      "  warnings.warn(\n",
      "/home/augustin/.local/lib/python3.10/site-packages/sklearn/metrics/_classification.py:1334: UndefinedMetricWarning: Precision is ill-defined and being set to 0.0 due to no predicted samples. Use `zero_division` parameter to control this behavior.\n",
      "  _warn_prf(average, modifier, msg_start, len(result))\n",
      "[Parallel(n_jobs=-1)]: Done   3 out of   5 | elapsed:    5.5s remaining:    3.7s\n",
      "/home/augustin/.local/lib/python3.10/site-packages/sklearn/neural_network/_multilayer_perceptron.py:702: ConvergenceWarning: Stochastic Optimizer: Maximum iterations (20) reached and the optimization hasn't converged yet.\n",
      "  warnings.warn(\n"
     ]
    },
    {
     "name": "stdout",
     "output_type": "stream",
     "text": [
      "Iteration 20, loss = 0.01400750\n",
      "Iteration 20, loss = 0.01478547\n",
      "[CV] END  accuracy: (test=0.998) f1: (test=0.000) precision: (test=0.000) recall: (test=0.000) roc_auc: (test=0.510) total time=   5.5s\n",
      "Iteration 20, loss = 0.01480570\n",
      "[CV] END  accuracy: (test=0.998) f1: (test=0.000) precision: (test=0.000) recall: (test=0.000) roc_auc: (test=0.556) total time=   5.5s\n",
      "[CV] END  accuracy: (test=0.998) f1: (test=0.000) precision: (test=0.000) recall: (test=0.000) roc_auc: (test=0.480) total time=   5.5s\n",
      "Neuoral Network Classfication --------------------------------------\n",
      "Precision:  0.0\n",
      "Recall:  0.0\n",
      "F1:  0.0\n",
      "ROC:  0.52324146\n",
      "Accuracy:  0.99796462\n"
     ]
    },
    {
     "name": "stderr",
     "output_type": "stream",
     "text": [
      "/home/augustin/.local/lib/python3.10/site-packages/sklearn/metrics/_classification.py:1334: UndefinedMetricWarning: Precision is ill-defined and being set to 0.0 due to no predicted samples. Use `zero_division` parameter to control this behavior.\n",
      "  _warn_prf(average, modifier, msg_start, len(result))\n",
      "[Parallel(n_jobs=-1)]: Done   5 out of   5 | elapsed:    5.5s remaining:    0.0s\n",
      "[Parallel(n_jobs=-1)]: Done   5 out of   5 | elapsed:    5.5s finished\n"
     ]
    }
   ],
   "source": [
    "model_cv_rapport(model_nn, \"Neuoral Network Classfication\", x, y)"
   ]
  },
  {
   "cell_type": "code",
   "execution_count": null,
   "metadata": {},
   "outputs": [],
   "source": []
  }
 ],
 "metadata": {
  "kernelspec": {
   "display_name": "Python 3.10.8 64-bit",
   "language": "python",
   "name": "python3"
  },
  "language_info": {
   "codemirror_mode": {
    "name": "ipython",
    "version": 3
   },
   "file_extension": ".py",
   "mimetype": "text/x-python",
   "name": "python",
   "nbconvert_exporter": "python",
   "pygments_lexer": "ipython3",
   "version": "3.10.8"
  },
  "orig_nbformat": 4,
  "vscode": {
   "interpreter": {
    "hash": "e7370f93d1d0cde622a1f8e1c04877d8463912d04d973331ad4851f04de6915a"
   }
  }
 },
 "nbformat": 4,
 "nbformat_minor": 2
}
